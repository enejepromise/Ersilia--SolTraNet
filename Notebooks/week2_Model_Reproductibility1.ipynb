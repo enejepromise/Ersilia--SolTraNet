{
  "cells": [
    {
      "cell_type": "markdown",
      "metadata": {
        "id": "ZvcmNszIYjpq"
      },
      "source": [
        "# This notebook showcases Model Reproducibilty using the soltrannet model and Ersilia eos6oli model"
      ]
    },
    {
      "cell_type": "markdown",
      "source": [
        "Installing and Importing all neccessary Libraries"
      ],
      "metadata": {
        "id": "fk2lCTr_kQJi"
      }
    },
    {
      "cell_type": "code",
      "execution_count": 1,
      "metadata": {
        "colab": {
          "base_uri": "https://localhost:8080/"
        },
        "id": "k9syz9uPYrdv",
        "outputId": "9e0e04c5-6d17-4b06-d468-669e2066aa6f"
      },
      "outputs": [
        {
          "output_type": "stream",
          "name": "stdout",
          "text": [
            "Requirement already satisfied: rdkit in /usr/local/lib/python3.7/site-packages (2023.3.2)\n",
            "Requirement already satisfied: numpy in /usr/local/lib/python3.7/site-packages (from rdkit) (1.21.6)\n",
            "Requirement already satisfied: Pillow in /usr/local/lib/python3.7/site-packages (from rdkit) (9.5.0)\n",
            "\u001b[33mWARNING: Running pip as the 'root' user can result in broken permissions and conflicting behaviour with the system package manager. It is recommended to use a virtual environment instead: https://pip.pypa.io/warnings/venv\u001b[0m\n"
          ]
        }
      ],
      "source": [
        "# install rdkit\n",
        "\n",
        "!pip install rdkit\n"
      ]
    },
    {
      "cell_type": "code",
      "execution_count": null,
      "metadata": {
        "id": "PwziMFUJYrcO"
      },
      "outputs": [],
      "source": [
        "# installing the model(eos6oli)\n",
        "\n",
        "!pip install soltrannet\n"
      ]
    },
    {
      "cell_type": "code",
      "execution_count": 3,
      "metadata": {
        "id": "C7lZELnOYrY8"
      },
      "outputs": [],
      "source": [
        "#importing all the necessary libraries\n",
        "import soltrannet as stn\n",
        "import sys\n",
        "import pandas as pd\n",
        "import numpy as np\n",
        "import math\n",
        "import matplotlib.pyplot as plt\n",
        "%matplotlib inline\n",
        "import warnings\n",
        "warnings.filterwarnings(\"ignore\")\n"
      ]
    },
    {
      "cell_type": "code",
      "execution_count": 4,
      "metadata": {
        "colab": {
          "base_uri": "https://localhost:8080/"
        },
        "id": "6wDsX1zxYrXn",
        "outputId": "6c3118eb-0088-44a8-d2d7-940861bbe347"
      },
      "outputs": [
        {
          "output_type": "stream",
          "name": "stdout",
          "text": [
            "Drive already mounted at /content/drive; to attempt to forcibly remount, call drive.mount(\"/content/drive\", force_remount=True).\n"
          ]
        }
      ],
      "source": [
        "## Mount google drive\n",
        "from google.colab import drive\n",
        "drive.mount(\"/content/drive\")\n"
      ]
    },
    {
      "cell_type": "code",
      "execution_count": 5,
      "metadata": {
        "id": "Po75sT4NYrTs"
      },
      "outputs": [],
      "source": [
        "_ = sys.path.append(\"/content/drive/MyDrive/Ersilia\")\n"
      ]
    },
    {
      "cell_type": "code",
      "execution_count": 6,
      "metadata": {
        "id": "CdtQcmqpYrSR"
      },
      "outputs": [],
      "source": [
        "# specifying my input folder\n",
        "input_folder = \"/content/drive/MyDrive/Ersilia\"\n"
      ]
    },
    {
      "cell_type": "code",
      "execution_count": 7,
      "metadata": {
        "id": "1mwH-KCfYrOy"
      },
      "outputs": [],
      "source": [
        "# specifying my output folder\n",
        "output_folder = \"/content/drive/MyDrive/Ersilia\"\n"
      ]
    },
    {
      "cell_type": "code",
      "execution_count": 8,
      "metadata": {
        "id": "oV6Mu3A6YrNh"
      },
      "outputs": [],
      "source": [
        "input_filename = \"llinas2020_raw\""
      ]
    },
    {
      "cell_type": "code",
      "execution_count": 9,
      "metadata": {
        "id": "tmYo-REmYrKB"
      },
      "outputs": [],
      "source": [
        "#specifying my smiles column\n",
        "smiles_column = \"smiles\"\n"
      ]
    },
    {
      "cell_type": "code",
      "execution_count": 10,
      "metadata": {
        "colab": {
          "base_uri": "https://localhost:8080/"
        },
        "id": "nzbu5kTNYrIm",
        "outputId": "400a4efb-50dc-49aa-ba23-85cc14208978"
      },
      "outputs": [
        {
          "output_type": "stream",
          "name": "stdout",
          "text": [
            "My dataset contains 132 SMILES\n"
          ]
        }
      ],
      "source": [
        "# checking the number of smiles\n",
        "path = \"%s/%s.csv\" % (input_folder, input_filename)\n",
        "smi_col = \"%s\" % smiles_column\n",
        "df = pd.read_csv(path)\n",
        "smiles = df[smi_col].tolist()\n",
        "\n",
        "\n",
        "print(\"My dataset contains\" + \" \" + str(len(smiles)) + \" \" + \"SMILES\")\n"
      ]
    },
    {
      "cell_type": "code",
      "execution_count": 11,
      "metadata": {
        "id": "0HpbvVqoYrEw"
      },
      "outputs": [],
      "source": [
        "#checking if smiles is standardised\n",
        "import rdkit\n",
        "from rdkit import Chem\n",
        "\n",
        "def is_smiles(smiles):\n",
        "  try:\n",
        "    mol=Chem.MolFromSmiles(smiles)\n",
        "    if mol is None:\n",
        "      return False\n",
        "    return True\n",
        "  except:\n",
        "    return False\n"
      ]
    },
    {
      "cell_type": "code",
      "execution_count": 12,
      "metadata": {
        "colab": {
          "base_uri": "https://localhost:8080/"
        },
        "id": "T6cuhdyQYrDY",
        "outputId": "cdc9806a-aaa4-4995-855d-4a31ad228873"
      },
      "outputs": [
        {
          "output_type": "stream",
          "name": "stdout",
          "text": [
            "Valid SMILES\n",
            "Valid SMILES\n",
            "Valid SMILES\n",
            "Valid SMILES\n",
            "Valid SMILES\n",
            "Valid SMILES\n",
            "Valid SMILES\n",
            "Valid SMILES\n",
            "Valid SMILES\n",
            "Valid SMILES\n",
            "Valid SMILES\n",
            "Valid SMILES\n",
            "Valid SMILES\n",
            "Valid SMILES\n",
            "Valid SMILES\n",
            "Valid SMILES\n",
            "Valid SMILES\n",
            "Valid SMILES\n",
            "Valid SMILES\n",
            "Valid SMILES\n",
            "Valid SMILES\n",
            "Valid SMILES\n",
            "Valid SMILES\n",
            "Valid SMILES\n",
            "Valid SMILES\n",
            "Valid SMILES\n",
            "Valid SMILES\n",
            "Valid SMILES\n",
            "Valid SMILES\n",
            "Valid SMILES\n",
            "Valid SMILES\n",
            "Valid SMILES\n",
            "Valid SMILES\n",
            "Valid SMILES\n",
            "Valid SMILES\n",
            "Valid SMILES\n",
            "Valid SMILES\n",
            "Valid SMILES\n",
            "Valid SMILES\n",
            "Valid SMILES\n",
            "Valid SMILES\n",
            "Valid SMILES\n",
            "Valid SMILES\n",
            "Valid SMILES\n",
            "Valid SMILES\n",
            "Valid SMILES\n",
            "Valid SMILES\n",
            "Valid SMILES\n",
            "Valid SMILES\n",
            "Valid SMILES\n",
            "Valid SMILES\n",
            "Valid SMILES\n",
            "Valid SMILES\n",
            "Valid SMILES\n",
            "Valid SMILES\n",
            "Valid SMILES\n",
            "Valid SMILES\n",
            "Valid SMILES\n",
            "Valid SMILES\n",
            "Valid SMILES\n",
            "Valid SMILES\n",
            "Valid SMILES\n",
            "Valid SMILES\n",
            "Valid SMILES\n",
            "Valid SMILES\n",
            "Valid SMILES\n",
            "Valid SMILES\n",
            "Valid SMILES\n",
            "Valid SMILES\n",
            "Valid SMILES\n",
            "Valid SMILES\n",
            "Valid SMILES\n",
            "Valid SMILES\n",
            "Valid SMILES\n",
            "Valid SMILES\n",
            "Valid SMILES\n",
            "Valid SMILES\n",
            "Valid SMILES\n",
            "Valid SMILES\n",
            "Valid SMILES\n",
            "Valid SMILES\n",
            "Valid SMILES\n",
            "Valid SMILES\n",
            "Valid SMILES\n",
            "Valid SMILES\n",
            "Valid SMILES\n",
            "Valid SMILES\n",
            "Valid SMILES\n",
            "Valid SMILES\n",
            "Valid SMILES\n",
            "Valid SMILES\n",
            "Valid SMILES\n",
            "Valid SMILES\n",
            "Valid SMILES\n",
            "Valid SMILES\n",
            "Valid SMILES\n",
            "Valid SMILES\n",
            "Valid SMILES\n",
            "Valid SMILES\n",
            "Valid SMILES\n",
            "Valid SMILES\n",
            "Valid SMILES\n",
            "Valid SMILES\n",
            "Valid SMILES\n",
            "Valid SMILES\n",
            "Valid SMILES\n",
            "Valid SMILES\n",
            "Valid SMILES\n",
            "Valid SMILES\n",
            "Valid SMILES\n",
            "Valid SMILES\n",
            "Valid SMILES\n",
            "Valid SMILES\n",
            "Valid SMILES\n",
            "Valid SMILES\n",
            "Valid SMILES\n",
            "Valid SMILES\n",
            "Valid SMILES\n",
            "Valid SMILES\n",
            "Valid SMILES\n",
            "Valid SMILES\n",
            "Valid SMILES\n",
            "Valid SMILES\n",
            "Valid SMILES\n",
            "Valid SMILES\n",
            "Valid SMILES\n",
            "Valid SMILES\n",
            "Valid SMILES\n",
            "Valid SMILES\n",
            "Valid SMILES\n",
            "Valid SMILES\n",
            "Valid SMILES\n"
          ]
        }
      ],
      "source": [
        "for i in smiles:\n",
        "  if is_smiles(i):\n",
        "    print(\"Valid SMILES\")\n",
        "  else:\n",
        "    print(\"Not a valid SMILES\")\n"
      ]
    },
    {
      "cell_type": "markdown",
      "metadata": {
        "id": "wMoaxg7rjZ_O"
      },
      "source": [
        "Merging the predictions obtained from the model (as \"prediction\" column) with the predictions obtained by the author (as \"true\" column) into the dataframe.\n"
      ]
    },
    {
      "cell_type": "code",
      "execution_count": 13,
      "metadata": {
        "colab": {
          "base_uri": "https://localhost:8080/"
        },
        "id": "Pox3Qe9gYq-3",
        "outputId": "84a9fd6d-0dce-4b16-bdf7-091254fb6008"
      },
      "outputs": [
        {
          "output_type": "execute_result",
          "data": {
            "text/plain": [
              "[(-1.2419066429138184, 'CC(NC1=NN=C(S1)[S](N)(=O)=O)=O', ''),\n",
              " (-1.857985258102417, 'C(C)(=O)OC1=CC=CC=C1C(=O)O', ''),\n",
              " (-3.119774103164673, 'C=CCOc1ccc(cc1Cl)CC(=O)O', ''),\n",
              " (-2.1994705200195312, 'O[C@@H]2CC[C@@H](NCc1cc(Br)cc(Br)c1N)CC2', ''),\n",
              " (-5.205143928527832,\n",
              "  'O=C1Nc2c(ccc(OCCCCN3CCN(c4c(Cl)c(Cl)ccc4)CC3)c2)CC1',\n",
              "  ''),\n",
              " (-6.521167755126953, 'O=C1c2ccccc2C(=O)C(O)=C1C1CCC(CC1)c1ccc([Cl])cc1', ''),\n",
              " (-2.817272663116455, 'CCNc1nc(nc(n1)Cl)NC(C)C', ''),\n",
              " (-1.7760666608810425, 'C1=CC(=CC=C1C(CC(O)=O)CN)Cl', ''),\n",
              " (-1.8396010398864746, 'CCC(C)C1(C(=O)NC(=O)NC1=O)CC', ''),\n",
              " (-4.210572719573975,\n",
              "  'C1=C(Cl)C(=CC2=C1NC(=N[S]2(=O)=O)CSCC3=CC=CC=C3)[S](N)(=O)=O',\n",
              "  ''),\n",
              " (-4.71967077255249, 'O=C1Nc2c(C(c3ncccc3)=NC1)cc(Br)cc2', ''),\n",
              " (-7.789660453796387,\n",
              "  'CCOC1=NC2=CC=CC(=C2N1CC3=CC=C(C=C3)C4=CC=CC=C4C5=NNN=N5)C(=O)OC(C)OC(=O)OC6CCCCC6',\n",
              "  ''),\n",
              " (-3.8526968955993652, 'C1=CC=CC3=C1N(C2=C(C=CC=C2)C=C3)C(N)=O', ''),\n",
              " (-3.251559257507324, 'C1=CC=CC2=C1[NH]C3=CC=CC=C23', ''),\n",
              " (-2.467830181121826, 'C1=CC=CC2=C1[NH]C(=N2)NC(OC)=O', ''),\n",
              " (-3.9976000785827637,\n",
              "  'Cn1c(nnn1)SCC2=C(N3[C@@H]([C@@H](C3=O)NC(=O)/C(=N\\\\OC)/c4csc(n4)N)SC2)C(=O)O',\n",
              "  ''),\n",
              " (-2.8834457397460938,\n",
              "  'C/C=C/C1=C(N2[C@@H]([C@@H](C2=O)NC(=O)[C@@H](c3ccc(cc3)O)N)SC1)C(=O)O',\n",
              "  ''),\n",
              " (-4.151127815246582,\n",
              "  'C2=C([N](C1=CC=C([S](N)(=O)=O)C=C1)N=C2C(F)(F)F)C3=CC=C(C=C3)C',\n",
              "  ''),\n",
              " (-2.3027827739715576,\n",
              "  '[C@H]13N(C(=O)[C@H]1NC([C@@H](C2=CCC=CC2)N)=O)C(=C(C)CS3)C(O)=O',\n",
              "  ''),\n",
              " (-3.3377556800842285, 'O=S(=O)(NC(=O)NCCC)c1ccc(Cl)cc1', ''),\n",
              " (-4.878024578094482,\n",
              "  'C[C@H](CCC(=O)O)[C@H]1CC[C@@H]2[C@@]1([C@H](C[C@H]3[C@H]2CC[C@H]4[C@@]3(CC[C@H](C4)O)C)O)C',\n",
              "  ''),\n",
              " (-5.792821884155273, 'C3=C(OCCCCC1=NN=N[N]1C2CCCCC2)C=CC4=C3CCC(N4)=O', ''),\n",
              " (-2.4490139484405518, 'C1=NC(=C([NH]1)C)CSCCNC(NC#N)=NC', ''),\n",
              " (-2.8440487384796143, 'C2=C(N1CCNCC1)C(=CC4=C2N(C3CC3)C=C(C(O)=O)C4=O)F', ''),\n",
              " (-4.024282932281494,\n",
              "  'O=C(c1c(OC)cc(N)c([Cl])c1)NC1C(OC)CN(CC1)CCCOc1ccc(F)cc1',\n",
              "  ''),\n",
              " (-3.4857311248779297,\n",
              "  '[C@@H]23[C@H]([C@H]1[C@]([C@@H](C(CO)=O)CC1)(C)C[C@@H]2O)CCC4=CC(=O)CC[C@]34C',\n",
              "  ''),\n",
              " (-4.445237159729004,\n",
              "  '[C@]34([C@H]([C@H]2[C@@H]([C@@]1(C(=CC(=O)CC1)CC2)C)C(C3)=O)CC[C@@]4(C(COC(C)=O)=O)O)C',\n",
              "  ''),\n",
              " (-4.55928373336792,\n",
              "  'CCC1C(=O)N(CC(=O)N(C(C(=O)NC(C(=O)N(C(C(=O)NC(C(=O)NC(C(=O)N(C(C(=O)N(C(C(=O)N(C(C(=O)N(C(C(=O)N1)C(C(C)CC=CC)O)C)C(C)C)C)CC(C)C)C)CC(C)C)C)C)C)CC(C)C)C)C(C)C)CC(C)C)C)C',\n",
              "  ''),\n",
              " (-4.501409530639648, 'c1cc(ccc1c2coc3cc(ccc3c2=O)O)O', ''),\n",
              " (-3.3206019401550293, 'CNCCCN1c2ccccc2CCc3c1cccc3', ''),\n",
              " (-3.1982803344726562,\n",
              "  'C[C@@H]1C[C@H]2[C@@H]3CCC4=CC(=O)C=C[C@@]4([C@]3([C@H](C[C@@]2([C@]1(C(=O)CO)O)C)O)F)C',\n",
              "  ''),\n",
              " (-3.30004620552063, 'C1=C2C(=CC(=C1)Cl)[S](N=C(N2)C)(=O)=O', ''),\n",
              " (-4.661114692687988, 'C1=C(C(=CC=C1)CC(=O)O)NC2=C(C=CC=C2Cl)Cl', ''),\n",
              " (-5.475934982299805,\n",
              "  'C[C@H]1C[C@H]2[C@@H]3C[C@@H](C4=CC(=O)C=C[C@@]4([C@]3([C@H](C[C@@]2([C@]1(C(=O)COC(=O)C)OC(=O)C)C)O)F)C)F',\n",
              "  ''),\n",
              " (-4.147854804992676,\n",
              "  'C2=C(N1CCN(C)CC1)C(=CC4=C2N(C3=CC=C(F)C=C3)C=C(C(O)=O)C4=O)F',\n",
              "  ''),\n",
              " (-3.998072624206543,\n",
              "  '[C@@H]1([C@H](C(N(CCN(C)C)C2=C(S1)C=CC=C2)=O)OC(C)=O)C3=CC=C(OC)C=C3',\n",
              "  ''),\n",
              " (-3.0375988483428955, 'c1ccc(cc1)Nc2ccccc2', ''),\n",
              " (-1.192939043045044, 'OC1=C(C=CC(=C1)C[C@H](N)C(=O)O)O', ''),\n",
              " (-2.5239040851593018,\n",
              "  '[C@@H]2(N(C([C@@H](N[C@@H](CCC1=CC=CC=C1)C(OCC)=O)C)=O)CCC2)C(O)=O',\n",
              "  ''),\n",
              " (-3.6909379959106445,\n",
              "  'C[C@]12CC[C@@H]3c4ccc(cc4CC[C@H]3[C@@H]1CC[C@H]2O)O',\n",
              "  ''),\n",
              " (-4.824230194091797,\n",
              "  '[C@H]34[C@H]2[C@@H](C1=C(C=C(O)C=C1)CC2)CC[C@@]3(C(=O)CC4)C',\n",
              "  ''),\n",
              " (-2.4075474739074707, 'C1=C(OCC)C=CC2=C1SC(=N2)[S](N)(=O)=O', ''),\n",
              " (-3.8141024112701416,\n",
              "  '[C@H]1(C5=C([C@H](C2[C@@H]1C(OC2)=O)O[C@@H]3O[C@H]4[C@H]([C@@H]([C@H]3O)O)O[C@@H](OC4)C)C=C6C(=C5)OCO6)C7=CC(=C(C(=C7)OC)O)OC',\n",
              "  ''),\n",
              " (-2.4416756629943848, 'CC1(C2CCC(O1)(CC2)C)C', ''),\n",
              " (-3.5028369426727295, 'O=C(O)CCC(=O)c1ccc(cc1)c1ccccc1', ''),\n",
              " (-3.4364941120147705, 'O=C1C(C(O)=O)=CN2C(C)CCc3c2c1cc(F)c3', ''),\n",
              " (-3.7924365997314453, 'O=C(O)C(C)c1cc(F)c(cc1)c1ccccc1', ''),\n",
              " (-3.6508853435516357,\n",
              "  '[C@H](NC(C3=CC=C(NCC1=NC2=C(N=C1)NC(=NC2=O)N)C=C3)=O)(CCC(O)=O)C(O)=O',\n",
              "  ''),\n",
              " (-1.2018234729766846, 'C1=NC2=C([N]1COC(CO)CO)NC(=NC2=O)N', ''),\n",
              " (-4.718295574188232,\n",
              "  'C1=CC(=CC=C1[S](NC(NC2CCCCC2)=O)(=O)=O)CCNC(C3=NC=C(N=C3)C)=O',\n",
              "  ''),\n",
              " (-4.8184051513671875,\n",
              "  'C[C@@H]1CC(=O)C=C([C@]12C(=O)c3c(cc(c(c3O2)Cl)OC)OC)OC',\n",
              "  ''),\n",
              " (-4.201371192932129, 'O=C(c1ccc(F)cc1)CCCN1CCC(CC1)(O)c1ccc([Cl])cc1', ''),\n",
              " (-5.963291168212891,\n",
              "  'C=CC(=O)N1CCC[C@H](C1)n2c3c(c(n2)c4ccc(cc4)Oc5ccccc5)c(ncn3)N',\n",
              "  ''),\n",
              " (-3.2995338439941406,\n",
              "  'O[C@@H]1(Cc2ccccc2[C@@H]1(NC(=O)[C@H](Cc1ccccc1)(C[C@@H](CN1[C@@H](CN(CC1)Cc1cnccc1)(C(=O)NC(C)(C)C))(O))))',\n",
              "  ''),\n",
              " (-5.468997001647949,\n",
              "  'C1=CC(=CC2=C1[N](C(=C2CC(O)=O)C)C(C3=CC=C(Cl)C=C3)=O)OC',\n",
              "  ''),\n",
              " (-3.84529447555542, 'C1=CC(=CC=C1N2C(C3=C(C2)C=CC=C3)=O)C(C(O)=O)C', ''),\n",
              " (-4.5879011154174805,\n",
              "  '[C@]4(C1=CC=C(C=C1Cl)Cl)(O[C@@H](COC3=CC=C(N2CCN(C(C)=O)CC2)C=C3)CO4)C[N]5C=CN=C5',\n",
              "  ''),\n",
              " (-3.9681477546691895, 'CNCCCC12c3c(cccc3)C(CC1)c3c2cccc3', ''),\n",
              " (-3.725336790084839, 'CC2Nc1cc(Cl)c(cc1C(=O)N2c3ccccc3C)S(N)(=O)=O', ''),\n",
              " (-4.218517303466797, 'C(=O)(CCc1cc2c(cc(OC)cc2)cc1)C', ''),\n",
              " (-3.4693827629089355, 'C1=C2C(=CC=C1C(C(O)=O)C)C=C(OC)C=C2', ''),\n",
              " (-4.60770845413208,\n",
              "  'Cc1c(cccc1O)C(=O)N[C@H]([C@@H](CN1[C@@H](C[C@]2([C@@](C1)(CCCC2)([H]))([H]))(C(=O)NC(C)(C)C))(O))(CSc1ccccc1)',\n",
              "  ''),\n",
              " (-3.5875673294067383, 'C4=NC1=C(NC(C3=C(N1C2CC2)N=CC=C3)=O)C(=C4)C', ''),\n",
              " (-5.5808000564575195,\n",
              "  'C1=CC=CC(=C1C2C(=C(NC(=C2C(OC)=O)C)C)C(OC)=O)[N+]([O-])=O',\n",
              "  ''),\n",
              " (-3.887791395187378,\n",
              "  'C1=C([N+](=O)[O-])C=CC(=C1OC2=CC=CC=C2)N[S](C)(=O)=O',\n",
              "  ''),\n",
              " (-2.5941619873046875, 'C1=C3C(=CC(=C1N2CCNCC2)F)C(C(=CN3CC)C(O)=O)=O', ''),\n",
              " (-3.771498203277588, 'C1=CC=CC2=C1C(C3=C(CC2)C=CC=C3)=CCCNC', ''),\n",
              " (-3.5494022369384766,\n",
              "  '[C@@H]3(C1=C(C=C2C(=C1OC)OCO2)CCN3C)[C@@H]5C4=C(C(=C(OC)C=C4)OC)C(O5)=O',\n",
              "  ''),\n",
              " (-2.6860506534576416, 'CC1COc2c3n1cc(c(=O)c3cc(c2N4CCN(CC4)C)F)C(=O)O', ''),\n",
              " (-4.182643413543701, 'C1=C(Cl)C=CC2=C1C(=NC(O)C(N2)=O)C3=CC=CC=C3', ''),\n",
              " (-4.468708038330078, 'C3=C(N1C(=O)C(CCCC)C(N1C2=CC=CC=C2)=O)C=CC(=C3)O', ''),\n",
              " (-4.898200988769531, 'C1=C(OC)C(=CC2=CC=NC(=C12)CC3=CC=C(C(=C3)OC)OC)OC', ''),\n",
              " (-3.094115734100342,\n",
              "  'C1=C(Cl)C=CC3=C1N(C2=C(C=CC=C2)S3)CCCN4CCN(CCO)CC4',\n",
              "  ''),\n",
              " (-2.315873622894287, 'C1=CC(=CC=C1NC(C)=O)OCC', ''),\n",
              " (-3.2433929443359375, 'C1=C(C(=NC(=C1)N)N)N=NC2=CC=CC=C2', ''),\n",
              " (-1.4587429761886597, 'C1=C[NH]C2=C1C(=CC=C2)OCC(CNC(C)C)O', ''),\n",
              " (-3.451793670654297,\n",
              "  'C(=O)(OC1C2C(C=CC(C2CCC(O)CC(O)CC(=O)O)C)=CC(O)C1)C(CC)C',\n",
              "  ''),\n",
              " (-3.1090357303619385,\n",
              "  'C(=O)(C1(C2(C(C3C(C4(C(=CC(=O)C=C4)C(C3)C)C)C(O)C2)CC1)C)O)CO',\n",
              "  ''),\n",
              " (-2.1653432846069336, 'C1=CC=CC=C1C2(C(NCNC2=O)=O)CC', ''),\n",
              " (-2.3337175846099854, 'C1=CC(=CC=C1[S](N(CCC)CCC)(=O)=O)C(O)=O', ''),\n",
              " (-3.6620211601257324, 'C1=CC=CC3=C1N(C2=C(C=CC=C2)S3)CCCN(C)C', ''),\n",
              " (-3.7072620391845703, 'C1=CC=CC2=C1N(C3=C(S2)C=CC=C3)CC(C)N(C)C', ''),\n",
              " (-5.145988464355469,\n",
              "  '[C@H](C2=C(N1CCCCC1)C=CC=C2)(NC(CC3=CC=C(C(=C3)OCC)C(O)=O)=O)CC(C)C',\n",
              "  ''),\n",
              " (-2.9385650157928467, 'c1cc(ccc1/C=C/c2cc(cc(c2)O)O)O', ''),\n",
              " (-5.164056777954102,\n",
              "  '[C@H](CC1=CC=CC=C1)(C[C@@H]([C@H](CC2=CC=CC=C2)NC(OCC3=CN=CS3)=O)O)NC([C@@H](NC(N(CC4=CSC(=N4)C(C)C)C)=O)C(C)C)=O',\n",
              "  ''),\n",
              " (-4.410524845123291,\n",
              "  'C1=CC(=CC=C1C3=C(C2=CC=CC=C2)C(=O)OC3)[S](C)(=O)=O',\n",
              "  ''),\n",
              " (-5.6705322265625,\n",
              "  '[C@@]45([C@@]3([C@H]([C@H]2[C@@H]([C@@]1(C(=CC(=O)CC1)C[C@H]2SC(C)=O)C)CC3)CC4)C)OC(=O)CC5',\n",
              "  ''),\n",
              " (-3.325864553451538,\n",
              "  'c1ccc2c(c1)[C@]34CCN5[C@H]3C[C@@H]6[C@@H]7[C@@H]4N2C(=O)C[C@@H]7OCC=C6C5',\n",
              "  ''),\n",
              " (-4.488306045532227,\n",
              "  'C2=C([S](=O)(=O)NC1=CC=CC=N1)C=CC(=C2)N\\\\N=C3/C=C(C(=O)C=C3)C(O)=O',\n",
              "  ''),\n",
              " (-2.8894765377044678, 'C2=CN=C(N[S](=O)(=O)C1=CC=C(C=C1)N)S2', ''),\n",
              " (-3.2154436111450195, 'Cc1cc(nc(n1)C)NS(=O)(=O)c2ccc(cc2)N', ''),\n",
              " (-2.984315872192383, 'O=S(=O)(c1ccc(cc1)N)Nc2c(c(no2)C)C', ''),\n",
              " (-5.492977142333984,\n",
              "  'C1=CC(=CC2=C1C(/C(=C2CC(O)=O)C)=C\\\\C3=CC=C([S](C)=O)C=C3)F',\n",
              "  ''),\n",
              " (-2.170274496078491, 'CCCCNc1ccc(cc1)C(=O)OCCN(C)C', ''),\n",
              " (-2.6008379459381104,\n",
              "  '[C@@H]23C[C@@H]1[C@](O)(C4=C(C(=C1C(=O)[C@]2(O)C(=O)\\\\C(C(=O)[C@H]3N(C)C)=C(/O)N)O)C(=CC=C4)O)C',\n",
              "  ''),\n",
              " (-3.0148019790649414, 'C1=C(C=CC(=C1)NC(=O)C)/C=N/NC(=S)N', ''),\n",
              " (-2.419477701187134,\n",
              "  '[C@]23([C@H]([C@H]1[C@]([C@](C(CO)=O)(O)[C@@H](C1)O)(C)C[C@@H]2O)CCC4=CC(=O)C=C[C@]34C)F',\n",
              "  ''),\n",
              " (-3.734283208847046, 'C3=C(C1=C(N=C2C(=N1)C(=NC(=N2)N)N)N)C=CC=C3', ''),\n",
              " (-4.9054155349731445, 'C3=C(C(C1=C(OC2=C(C1=O)C=CC=C2)O)CC(=O)C)C=CC=C3', ''),\n",
              " (-3.102206230163574, 'N1C(C2=C(NC1=O)N=C[NH]2)=O', ''),\n",
              " (-1.2534065246582031, 'C12(N)CC3CC(C1)CC(C2)C3', ''),\n",
              " (-6.949008464813232,\n",
              "  'C1=CC=CC2=C1C(=C(O2)CCCC)C(=O)C3=CC(=C(OCCN(CC)CC)C(=C3)I)I',\n",
              "  ''),\n",
              " (-4.538188457489014,\n",
              "  'C1=CC(=CC2=NC=CC(=C12)NC3=CC=C(C(=C3)CN(CC)CC)O)Cl',\n",
              "  ''),\n",
              " (-1.7628971338272095, 'CC(C)NCC(COc1ccc(cc1)COCCOC(C)C)O', ''),\n",
              " (-5.004821300506592,\n",
              "  '[C@@]56(N(C([C@@](NC([C@@H]4C=C3C1=CC=CC2=C1C(=C(Br)[NH]2)C[C@H]3N(C4)C)=O)(C(C)C)O5)=O)[C@H](C(=O)N7[C@H]6CCC7)CC(C)C)O',\n",
              "  ''),\n",
              " (-4.880965709686279,\n",
              "  'O[C@]([C@@H]1([C@]2([C@H]3([C@]45([C@@]([C@H]([N@@](CC4)(CC4CC4))(Cc4c5c(O3)c(O)cc4))(C1)(CC2))))(OC)))(C(C)(C)C)(C)',\n",
              "  ''),\n",
              " (-5.157513618469238, 'C1=C(Cl)C=CC3=C1\\\\C(C2=C(C=CC=C2)S3)=C/CCN(C)C', ''),\n",
              " (-8.65622329711914,\n",
              "  'C1=CC=CC3=C1N(C2=CC(=NC(C)C)C(=CC2=N3)NC4=CC=C(Cl)C=C4)C5=CC=C(Cl)C=C5',\n",
              "  ''),\n",
              " (-5.139080047607422, 'Oc1ccc(cc1OC)/C=C/C(=O)CC(=O)/C=C/c2ccc(O)c(OC)c2', ''),\n",
              " (-5.237668991088867,\n",
              "  '[C@@H]23[C@H]([C@H]1[C@]([C@@](C#C)(O)CC1)(C)CC2)CCC4=CC5=C(C[C@]34C)C=NO5',\n",
              "  ''),\n",
              " (-1.3458495140075684,\n",
              "  'O=C1c2c(N=CN1)[n@@](cn2)([C@@H]1(O[C@H](CO)(CC1)))',\n",
              "  ''),\n",
              " (-3.897007942199707, 'C2=C(C1=CC=C(C(=C1)C(O)=O)O)C(=CC(=C2)F)F', ''),\n",
              " (-2.5652267932891846, 'CN(C)CCOC(c1ccccc1)c2ccccc2', ''),\n",
              " (-2.2703208923339844, 'CC[C@@]1(OC[C@@H](O1)[C@@H]2CCCCN2)c3ccccc3', ''),\n",
              " (-5.33521842956543,\n",
              "  'O[C@@H](CC[C@@H]1([C@H](N(C1=O)c1ccc(F)cc1)(c1ccc(O)cc1)))(c1ccc(F)cc1)',\n",
              "  ''),\n",
              " (-5.493499755859375, 'c1ccc(cc1)c2nc(c(s2)CC(=O)O)c3ccc(cc3)Cl', ''),\n",
              " (-3.597806930541992, 'C1=C(C(=C(C(=C1I)CC(C(O)=O)CC)I)N)I', ''),\n",
              " (-7.023041725158691,\n",
              "  '[C@]6(C1=C(C=C(Cl)C=C1)Cl)(O[C@@H](COC2=CC=C(C=C2)N5CCN(C3=CC=C(C=C3)N4C(N(C(CC)C)N=C4)=O)CC5)CO6)C[N]7C=NC=N7',\n",
              "  ''),\n",
              " (-6.092264652252197,\n",
              "  'C1=C(C=CC(=C1Cl)COC(C[N]2C=NC=C2)C3=C(C=C(C=C3)Cl)Cl)Cl',\n",
              "  ''),\n",
              " (-6.107354164123535,\n",
              "  '[C@H]23C(=C1C(=CC(=O)CC1)CC2)[C@H](C[C@]4([C@H]3CC[C@]4(C#CC)O)C)C5=CC=C(C=C5)N(C)C',\n",
              "  ''),\n",
              " (-5.72590970993042, 'Cc1cnc(c(c1OC)C)CS(=O)c2[nH]c3ccc(cc3n2)OC', ''),\n",
              " (-5.549008369445801, 'CCc1ccc(nc1)CCOc2ccc(cc2)CC3C(=O)NC(=O)S3', ''),\n",
              " (-1.8000941276550293, 'C1=C(C(OCCN(CC)CC)=O)C=CC(=C1)N', ''),\n",
              " (-3.090207815170288,\n",
              "  '[C@@H]2(N1C[C@H](C=C)[C@H](CC1)C2)[C@@H](C3=CC=NC4=C3C=C(C=C4)OC)O',\n",
              "  ''),\n",
              " (-6.463235378265381,\n",
              "  'C(=O)(c1c(-c2ccc(O)cc2)sc3c1ccc(O)c3)c4ccc(OCCN5CCCCC5)cc4',\n",
              "  ''),\n",
              " (-5.626503944396973,\n",
              "  'C(=O)(OC1C(C(OC)C=COC2(C(=O)c3c4c(C(=O)C(=C5C4=NC6(N5)CCN(CC(C)C)CC6)NC(=O)C(=CC=CC(C(O)C(C(O)C1C)C)C)C)c(c(c3O2)C)O)C)C)C',\n",
              "  ''),\n",
              " (-4.5040974617004395,\n",
              "  '[C@@H]15[C@@H](CN([C@@H](C1)C(=O)NC(C)(C)C)C[C@@H](O)[C@@H](NC(=O)[C@@H](NC(=O)C2=NC3=C(C=C2)C=CC=C3)CC(=O)N)CC4=CC=CC=C4)CCCC5',\n",
              "  ''),\n",
              " (-3.6808953285217285, 'C1=C(N=C(N=C1N[S](C2=CC=C(N)C=C2)(=O)=O)OC)OC', ''),\n",
              " (-5.474015235900879,\n",
              "  'C1=CC(=CC=C1\\\\C(=C(C2=CC=CC=C2)\\\\CC)C3=CC=CC=C3)OCCN(C)C',\n",
              "  ''),\n",
              " (-7.91922664642334,\n",
              "  'CCCc1nc2c(cc(cc2n1Cc3ccc(cc3)c4ccccc4C(=O)O)c5nc6ccccc6n5C)C',\n",
              "  ''),\n",
              " (-4.835240840911865,\n",
              "  'C1=CC=CC=C1C(C3CCN(CCCC(C2=CC=C(C(C)(C)C)C=C2)O)CC3)(C4=CC=CC=C4)O',\n",
              "  ''),\n",
              " (-3.475417375564575, 'C3=CC1=C([NH]C(=N1)C2=CSC=N2)C=C3', '')]"
            ]
          },
          "metadata": {},
          "execution_count": 13
        }
      ],
      "source": [
        "# Extracting the smiles column from the DataFrame to make predictions\n",
        "my_smiles = df[\"smiles\"].tolist()\n",
        "predictions = list(stn.predict(my_smiles))\n",
        "predictions\n"
      ]
    },
    {
      "cell_type": "code",
      "execution_count": 14,
      "metadata": {
        "colab": {
          "base_uri": "https://localhost:8080/",
          "height": 423
        },
        "id": "C8BbN_mNYq9i",
        "outputId": "0f048e78-7da3-4bfe-a715-e8caa22ef9ab"
      },
      "outputs": [
        {
          "output_type": "execute_result",
          "data": {
            "text/plain": [
              "         pred                                             smiles true_values\n",
              "0   -1.241907                     CC(NC1=NN=C(S1)[S](N)(=O)=O)=O            \n",
              "1   -1.857985                         C(C)(=O)OC1=CC=CC=C1C(=O)O            \n",
              "2   -3.119774                           C=CCOc1ccc(cc1Cl)CC(=O)O            \n",
              "3   -2.199471           O[C@@H]2CC[C@@H](NCc1cc(Br)cc(Br)c1N)CC2            \n",
              "4   -5.205144  O=C1Nc2c(ccc(OCCCCN3CCN(c4c(Cl)c(Cl)ccc4)CC3)c...            \n",
              "..        ...                                                ...         ...\n",
              "127 -3.680895      C1=C(N=C(N=C1N[S](C2=CC=C(N)C=C2)(=O)=O)OC)OC            \n",
              "128 -5.474015  C1=CC(=CC=C1\\C(=C(C2=CC=CC=C2)\\CC)C3=CC=CC=C3)...            \n",
              "129 -7.919227  CCCc1nc2c(cc(cc2n1Cc3ccc(cc3)c4ccccc4C(=O)O)c5...            \n",
              "130 -4.835241  C1=CC=CC=C1C(C3CCN(CCCC(C2=CC=C(C(C)(C)C)C=C2)...            \n",
              "131 -3.475417                  C3=CC1=C([NH]C(=N1)C2=CSC=N2)C=C3            \n",
              "\n",
              "[132 rows x 3 columns]"
            ],
            "text/html": [
              "\n",
              "  <div id=\"df-716a6b30-4102-47db-a821-f15580b4c86a\" class=\"colab-df-container\">\n",
              "    <div>\n",
              "<style scoped>\n",
              "    .dataframe tbody tr th:only-of-type {\n",
              "        vertical-align: middle;\n",
              "    }\n",
              "\n",
              "    .dataframe tbody tr th {\n",
              "        vertical-align: top;\n",
              "    }\n",
              "\n",
              "    .dataframe thead th {\n",
              "        text-align: right;\n",
              "    }\n",
              "</style>\n",
              "<table border=\"1\" class=\"dataframe\">\n",
              "  <thead>\n",
              "    <tr style=\"text-align: right;\">\n",
              "      <th></th>\n",
              "      <th>pred</th>\n",
              "      <th>smiles</th>\n",
              "      <th>true_values</th>\n",
              "    </tr>\n",
              "  </thead>\n",
              "  <tbody>\n",
              "    <tr>\n",
              "      <th>0</th>\n",
              "      <td>-1.241907</td>\n",
              "      <td>CC(NC1=NN=C(S1)[S](N)(=O)=O)=O</td>\n",
              "      <td></td>\n",
              "    </tr>\n",
              "    <tr>\n",
              "      <th>1</th>\n",
              "      <td>-1.857985</td>\n",
              "      <td>C(C)(=O)OC1=CC=CC=C1C(=O)O</td>\n",
              "      <td></td>\n",
              "    </tr>\n",
              "    <tr>\n",
              "      <th>2</th>\n",
              "      <td>-3.119774</td>\n",
              "      <td>C=CCOc1ccc(cc1Cl)CC(=O)O</td>\n",
              "      <td></td>\n",
              "    </tr>\n",
              "    <tr>\n",
              "      <th>3</th>\n",
              "      <td>-2.199471</td>\n",
              "      <td>O[C@@H]2CC[C@@H](NCc1cc(Br)cc(Br)c1N)CC2</td>\n",
              "      <td></td>\n",
              "    </tr>\n",
              "    <tr>\n",
              "      <th>4</th>\n",
              "      <td>-5.205144</td>\n",
              "      <td>O=C1Nc2c(ccc(OCCCCN3CCN(c4c(Cl)c(Cl)ccc4)CC3)c...</td>\n",
              "      <td></td>\n",
              "    </tr>\n",
              "    <tr>\n",
              "      <th>...</th>\n",
              "      <td>...</td>\n",
              "      <td>...</td>\n",
              "      <td>...</td>\n",
              "    </tr>\n",
              "    <tr>\n",
              "      <th>127</th>\n",
              "      <td>-3.680895</td>\n",
              "      <td>C1=C(N=C(N=C1N[S](C2=CC=C(N)C=C2)(=O)=O)OC)OC</td>\n",
              "      <td></td>\n",
              "    </tr>\n",
              "    <tr>\n",
              "      <th>128</th>\n",
              "      <td>-5.474015</td>\n",
              "      <td>C1=CC(=CC=C1\\C(=C(C2=CC=CC=C2)\\CC)C3=CC=CC=C3)...</td>\n",
              "      <td></td>\n",
              "    </tr>\n",
              "    <tr>\n",
              "      <th>129</th>\n",
              "      <td>-7.919227</td>\n",
              "      <td>CCCc1nc2c(cc(cc2n1Cc3ccc(cc3)c4ccccc4C(=O)O)c5...</td>\n",
              "      <td></td>\n",
              "    </tr>\n",
              "    <tr>\n",
              "      <th>130</th>\n",
              "      <td>-4.835241</td>\n",
              "      <td>C1=CC=CC=C1C(C3CCN(CCCC(C2=CC=C(C(C)(C)C)C=C2)...</td>\n",
              "      <td></td>\n",
              "    </tr>\n",
              "    <tr>\n",
              "      <th>131</th>\n",
              "      <td>-3.475417</td>\n",
              "      <td>C3=CC1=C([NH]C(=N1)C2=CSC=N2)C=C3</td>\n",
              "      <td></td>\n",
              "    </tr>\n",
              "  </tbody>\n",
              "</table>\n",
              "<p>132 rows × 3 columns</p>\n",
              "</div>\n",
              "    <div class=\"colab-df-buttons\">\n",
              "\n",
              "  <div class=\"colab-df-container\">\n",
              "    <button class=\"colab-df-convert\" onclick=\"convertToInteractive('df-716a6b30-4102-47db-a821-f15580b4c86a')\"\n",
              "            title=\"Convert this dataframe to an interactive table.\"\n",
              "            style=\"display:none;\">\n",
              "\n",
              "  <svg xmlns=\"http://www.w3.org/2000/svg\" height=\"24px\" viewBox=\"0 -960 960 960\">\n",
              "    <path d=\"M120-120v-720h720v720H120Zm60-500h600v-160H180v160Zm220 220h160v-160H400v160Zm0 220h160v-160H400v160ZM180-400h160v-160H180v160Zm440 0h160v-160H620v160ZM180-180h160v-160H180v160Zm440 0h160v-160H620v160Z\"/>\n",
              "  </svg>\n",
              "    </button>\n",
              "\n",
              "  <style>\n",
              "    .colab-df-container {\n",
              "      display:flex;\n",
              "      gap: 12px;\n",
              "    }\n",
              "\n",
              "    .colab-df-convert {\n",
              "      background-color: #E8F0FE;\n",
              "      border: none;\n",
              "      border-radius: 50%;\n",
              "      cursor: pointer;\n",
              "      display: none;\n",
              "      fill: #1967D2;\n",
              "      height: 32px;\n",
              "      padding: 0 0 0 0;\n",
              "      width: 32px;\n",
              "    }\n",
              "\n",
              "    .colab-df-convert:hover {\n",
              "      background-color: #E2EBFA;\n",
              "      box-shadow: 0px 1px 2px rgba(60, 64, 67, 0.3), 0px 1px 3px 1px rgba(60, 64, 67, 0.15);\n",
              "      fill: #174EA6;\n",
              "    }\n",
              "\n",
              "    .colab-df-buttons div {\n",
              "      margin-bottom: 4px;\n",
              "    }\n",
              "\n",
              "    [theme=dark] .colab-df-convert {\n",
              "      background-color: #3B4455;\n",
              "      fill: #D2E3FC;\n",
              "    }\n",
              "\n",
              "    [theme=dark] .colab-df-convert:hover {\n",
              "      background-color: #434B5C;\n",
              "      box-shadow: 0px 1px 3px 1px rgba(0, 0, 0, 0.15);\n",
              "      filter: drop-shadow(0px 1px 2px rgba(0, 0, 0, 0.3));\n",
              "      fill: #FFFFFF;\n",
              "    }\n",
              "  </style>\n",
              "\n",
              "    <script>\n",
              "      const buttonEl =\n",
              "        document.querySelector('#df-716a6b30-4102-47db-a821-f15580b4c86a button.colab-df-convert');\n",
              "      buttonEl.style.display =\n",
              "        google.colab.kernel.accessAllowed ? 'block' : 'none';\n",
              "\n",
              "      async function convertToInteractive(key) {\n",
              "        const element = document.querySelector('#df-716a6b30-4102-47db-a821-f15580b4c86a');\n",
              "        const dataTable =\n",
              "          await google.colab.kernel.invokeFunction('convertToInteractive',\n",
              "                                                    [key], {});\n",
              "        if (!dataTable) return;\n",
              "\n",
              "        const docLinkHtml = 'Like what you see? Visit the ' +\n",
              "          '<a target=\"_blank\" href=https://colab.research.google.com/notebooks/data_table.ipynb>data table notebook</a>'\n",
              "          + ' to learn more about interactive tables.';\n",
              "        element.innerHTML = '';\n",
              "        dataTable['output_type'] = 'display_data';\n",
              "        await google.colab.output.renderOutput(dataTable, element);\n",
              "        const docLink = document.createElement('div');\n",
              "        docLink.innerHTML = docLinkHtml;\n",
              "        element.appendChild(docLink);\n",
              "      }\n",
              "    </script>\n",
              "  </div>\n",
              "\n",
              "\n",
              "<div id=\"df-17c6ed12-ff4c-41e5-83e1-f46db8199991\">\n",
              "  <button class=\"colab-df-quickchart\" onclick=\"quickchart('df-17c6ed12-ff4c-41e5-83e1-f46db8199991')\"\n",
              "            title=\"Suggest charts\"\n",
              "            style=\"display:none;\">\n",
              "\n",
              "<svg xmlns=\"http://www.w3.org/2000/svg\" height=\"24px\"viewBox=\"0 0 24 24\"\n",
              "     width=\"24px\">\n",
              "    <g>\n",
              "        <path d=\"M19 3H5c-1.1 0-2 .9-2 2v14c0 1.1.9 2 2 2h14c1.1 0 2-.9 2-2V5c0-1.1-.9-2-2-2zM9 17H7v-7h2v7zm4 0h-2V7h2v10zm4 0h-2v-4h2v4z\"/>\n",
              "    </g>\n",
              "</svg>\n",
              "  </button>\n",
              "\n",
              "<style>\n",
              "  .colab-df-quickchart {\n",
              "      --bg-color: #E8F0FE;\n",
              "      --fill-color: #1967D2;\n",
              "      --hover-bg-color: #E2EBFA;\n",
              "      --hover-fill-color: #174EA6;\n",
              "      --disabled-fill-color: #AAA;\n",
              "      --disabled-bg-color: #DDD;\n",
              "  }\n",
              "\n",
              "  [theme=dark] .colab-df-quickchart {\n",
              "      --bg-color: #3B4455;\n",
              "      --fill-color: #D2E3FC;\n",
              "      --hover-bg-color: #434B5C;\n",
              "      --hover-fill-color: #FFFFFF;\n",
              "      --disabled-bg-color: #3B4455;\n",
              "      --disabled-fill-color: #666;\n",
              "  }\n",
              "\n",
              "  .colab-df-quickchart {\n",
              "    background-color: var(--bg-color);\n",
              "    border: none;\n",
              "    border-radius: 50%;\n",
              "    cursor: pointer;\n",
              "    display: none;\n",
              "    fill: var(--fill-color);\n",
              "    height: 32px;\n",
              "    padding: 0;\n",
              "    width: 32px;\n",
              "  }\n",
              "\n",
              "  .colab-df-quickchart:hover {\n",
              "    background-color: var(--hover-bg-color);\n",
              "    box-shadow: 0 1px 2px rgba(60, 64, 67, 0.3), 0 1px 3px 1px rgba(60, 64, 67, 0.15);\n",
              "    fill: var(--button-hover-fill-color);\n",
              "  }\n",
              "\n",
              "  .colab-df-quickchart-complete:disabled,\n",
              "  .colab-df-quickchart-complete:disabled:hover {\n",
              "    background-color: var(--disabled-bg-color);\n",
              "    fill: var(--disabled-fill-color);\n",
              "    box-shadow: none;\n",
              "  }\n",
              "\n",
              "  .colab-df-spinner {\n",
              "    border: 2px solid var(--fill-color);\n",
              "    border-color: transparent;\n",
              "    border-bottom-color: var(--fill-color);\n",
              "    animation:\n",
              "      spin 1s steps(1) infinite;\n",
              "  }\n",
              "\n",
              "  @keyframes spin {\n",
              "    0% {\n",
              "      border-color: transparent;\n",
              "      border-bottom-color: var(--fill-color);\n",
              "      border-left-color: var(--fill-color);\n",
              "    }\n",
              "    20% {\n",
              "      border-color: transparent;\n",
              "      border-left-color: var(--fill-color);\n",
              "      border-top-color: var(--fill-color);\n",
              "    }\n",
              "    30% {\n",
              "      border-color: transparent;\n",
              "      border-left-color: var(--fill-color);\n",
              "      border-top-color: var(--fill-color);\n",
              "      border-right-color: var(--fill-color);\n",
              "    }\n",
              "    40% {\n",
              "      border-color: transparent;\n",
              "      border-right-color: var(--fill-color);\n",
              "      border-top-color: var(--fill-color);\n",
              "    }\n",
              "    60% {\n",
              "      border-color: transparent;\n",
              "      border-right-color: var(--fill-color);\n",
              "    }\n",
              "    80% {\n",
              "      border-color: transparent;\n",
              "      border-right-color: var(--fill-color);\n",
              "      border-bottom-color: var(--fill-color);\n",
              "    }\n",
              "    90% {\n",
              "      border-color: transparent;\n",
              "      border-bottom-color: var(--fill-color);\n",
              "    }\n",
              "  }\n",
              "</style>\n",
              "\n",
              "  <script>\n",
              "    async function quickchart(key) {\n",
              "      const quickchartButtonEl =\n",
              "        document.querySelector('#' + key + ' button');\n",
              "      quickchartButtonEl.disabled = true;  // To prevent multiple clicks.\n",
              "      quickchartButtonEl.classList.add('colab-df-spinner');\n",
              "      try {\n",
              "        const charts = await google.colab.kernel.invokeFunction(\n",
              "            'suggestCharts', [key], {});\n",
              "      } catch (error) {\n",
              "        console.error('Error during call to suggestCharts:', error);\n",
              "      }\n",
              "      quickchartButtonEl.classList.remove('colab-df-spinner');\n",
              "      quickchartButtonEl.classList.add('colab-df-quickchart-complete');\n",
              "    }\n",
              "    (() => {\n",
              "      let quickchartButtonEl =\n",
              "        document.querySelector('#df-17c6ed12-ff4c-41e5-83e1-f46db8199991 button');\n",
              "      quickchartButtonEl.style.display =\n",
              "        google.colab.kernel.accessAllowed ? 'block' : 'none';\n",
              "    })();\n",
              "  </script>\n",
              "</div>\n",
              "\n",
              "  <div id=\"id_d1fc525a-b31c-4809-8f06-0a93b606ef4f\">\n",
              "    <style>\n",
              "      .colab-df-generate {\n",
              "        background-color: #E8F0FE;\n",
              "        border: none;\n",
              "        border-radius: 50%;\n",
              "        cursor: pointer;\n",
              "        display: none;\n",
              "        fill: #1967D2;\n",
              "        height: 32px;\n",
              "        padding: 0 0 0 0;\n",
              "        width: 32px;\n",
              "      }\n",
              "\n",
              "      .colab-df-generate:hover {\n",
              "        background-color: #E2EBFA;\n",
              "        box-shadow: 0px 1px 2px rgba(60, 64, 67, 0.3), 0px 1px 3px 1px rgba(60, 64, 67, 0.15);\n",
              "        fill: #174EA6;\n",
              "      }\n",
              "\n",
              "      [theme=dark] .colab-df-generate {\n",
              "        background-color: #3B4455;\n",
              "        fill: #D2E3FC;\n",
              "      }\n",
              "\n",
              "      [theme=dark] .colab-df-generate:hover {\n",
              "        background-color: #434B5C;\n",
              "        box-shadow: 0px 1px 3px 1px rgba(0, 0, 0, 0.15);\n",
              "        filter: drop-shadow(0px 1px 2px rgba(0, 0, 0, 0.3));\n",
              "        fill: #FFFFFF;\n",
              "      }\n",
              "    </style>\n",
              "    <button class=\"colab-df-generate\" onclick=\"generateWithVariable('predictions_df')\"\n",
              "            title=\"Generate code using this dataframe.\"\n",
              "            style=\"display:none;\">\n",
              "\n",
              "  <svg xmlns=\"http://www.w3.org/2000/svg\" height=\"24px\"viewBox=\"0 0 24 24\"\n",
              "       width=\"24px\">\n",
              "    <path d=\"M7,19H8.4L18.45,9,17,7.55,7,17.6ZM5,21V16.75L18.45,3.32a2,2,0,0,1,2.83,0l1.4,1.43a1.91,1.91,0,0,1,.58,1.4,1.91,1.91,0,0,1-.58,1.4L9.25,21ZM18.45,9,17,7.55Zm-12,3A5.31,5.31,0,0,0,4.9,8.1,5.31,5.31,0,0,0,1,6.5,5.31,5.31,0,0,0,4.9,4.9,5.31,5.31,0,0,0,6.5,1,5.31,5.31,0,0,0,8.1,4.9,5.31,5.31,0,0,0,12,6.5,5.46,5.46,0,0,0,6.5,12Z\"/>\n",
              "  </svg>\n",
              "    </button>\n",
              "    <script>\n",
              "      (() => {\n",
              "      const buttonEl =\n",
              "        document.querySelector('#id_d1fc525a-b31c-4809-8f06-0a93b606ef4f button.colab-df-generate');\n",
              "      buttonEl.style.display =\n",
              "        google.colab.kernel.accessAllowed ? 'block' : 'none';\n",
              "\n",
              "      buttonEl.onclick = () => {\n",
              "        google.colab.notebook.generateWithVariable('predictions_df');\n",
              "      }\n",
              "      })();\n",
              "    </script>\n",
              "  </div>\n",
              "\n",
              "    </div>\n",
              "  </div>\n"
            ],
            "application/vnd.google.colaboratory.intrinsic+json": {
              "type": "dataframe",
              "variable_name": "predictions_df",
              "summary": "{\n  \"name\": \"predictions_df\",\n  \"rows\": 132,\n  \"fields\": [\n    {\n      \"column\": \"pred\",\n      \"properties\": {\n        \"dtype\": \"number\",\n        \"std\": 1.447818185846288,\n        \"min\": -8.65622329711914,\n        \"max\": -1.192939043045044,\n        \"num_unique_values\": 132,\n        \"samples\": [\n          -4.5879011154174805,\n          -2.9385650157928467,\n          -3.3377556800842285\n        ],\n        \"semantic_type\": \"\",\n        \"description\": \"\"\n      }\n    },\n    {\n      \"column\": \"smiles\",\n      \"properties\": {\n        \"dtype\": \"string\",\n        \"num_unique_values\": 132,\n        \"samples\": [\n          \"[C@]4(C1=CC=C(C=C1Cl)Cl)(O[C@@H](COC3=CC=C(N2CCN(C(C)=O)CC2)C=C3)CO4)C[N]5C=CN=C5\",\n          \"c1cc(ccc1/C=C/c2cc(cc(c2)O)O)O\",\n          \"O=S(=O)(NC(=O)NCCC)c1ccc(Cl)cc1\"\n        ],\n        \"semantic_type\": \"\",\n        \"description\": \"\"\n      }\n    },\n    {\n      \"column\": \"true_values\",\n      \"properties\": {\n        \"dtype\": \"object\",\n        \"num_unique_values\": 1,\n        \"samples\": [\n          \"\"\n        ],\n        \"semantic_type\": \"\",\n        \"description\": \"\"\n      }\n    }\n  ]\n}"
            }
          },
          "metadata": {},
          "execution_count": 14
        }
      ],
      "source": [
        "#specifying column names in datatframe\n",
        "predictions_df = pd.DataFrame(predictions, columns=[\"pred\", \"smiles\", \"true_values\"])\n",
        "#saving predictions into a dataframe to the specified path\n",
        "predictions_df.to_csv(\"/content/drive/MyDrive/Ersilia/SoltranetPrediction.csv\", index=False)\n",
        "predictions_df\n"
      ]
    },
    {
      "cell_type": "code",
      "execution_count": 35,
      "metadata": {
        "id": "Yryd6JHjYq4y"
      },
      "outputs": [],
      "source": [
        "# Joining the outputs with drug names and returning the true solubility values\n",
        "# Merging dataframes\n",
        "merged_predictions = pd.merge(predictions_df, df[['smiles', 'log S0']], how='left', left_on='smiles', right_on='smiles')\n",
        "\n"
      ]
    },
    {
      "cell_type": "code",
      "execution_count": 16,
      "metadata": {
        "id": "fYCsFOJiYq3j"
      },
      "outputs": [],
      "source": [
        "# Renaming and dropping redundant columns\n",
        "merged_predictions = merged_predictions.rename(columns={'log S0': 'true'})\n",
        "merged_predictions = merged_predictions.drop(columns='true_values', axis=1)\n"
      ]
    },
    {
      "cell_type": "code",
      "execution_count": 17,
      "metadata": {
        "colab": {
          "base_uri": "https://localhost:8080/"
        },
        "id": "3OUkNQC8Yqyr",
        "outputId": "b327beae-645c-4dbf-e37d-50dba2cf2522"
      },
      "outputs": [
        {
          "output_type": "stream",
          "name": "stdout",
          "text": [
            "         pred                                             smiles  true\n",
            "0   -1.241907                     CC(NC1=NN=C(S1)[S](N)(=O)=O)=O -2.38\n",
            "1   -1.857985                         C(C)(=O)OC1=CC=CC=C1C(=O)O -1.67\n",
            "2   -3.119774                           C=CCOc1ccc(cc1Cl)CC(=O)O -4.40\n",
            "3   -2.199471           O[C@@H]2CC[C@@H](NCc1cc(Br)cc(Br)c1N)CC2 -3.87\n",
            "4   -5.205144  O=C1Nc2c(ccc(OCCCCN3CCN(c4c(Cl)c(Cl)ccc4)CC3)c... -6.64\n",
            "..        ...                                                ...   ...\n",
            "127 -3.680895      C1=C(N=C(N=C1N[S](C2=CC=C(N)C=C2)(=O)=O)OC)OC -3.74\n",
            "128 -5.474015  C1=CC(=CC=C1\\C(=C(C2=CC=CC=C2)\\CC)C3=CC=CC=C3)... -7.52\n",
            "129 -7.919227  CCCc1nc2c(cc(cc2n1Cc3ccc(cc3)c4ccccc4C(=O)O)c5... -6.73\n",
            "130 -4.835241  C1=CC=CC=C1C(C3CCN(CCCC(C2=CC=C(C(C)(C)C)C=C2)... -7.74\n",
            "131 -3.475417                  C3=CC1=C([NH]C(=N1)C2=CSC=N2)C=C3 -3.97\n",
            "\n",
            "[132 rows x 3 columns]\n"
          ]
        }
      ],
      "source": [
        "print(merged_predictions)\n"
      ]
    },
    {
      "cell_type": "markdown",
      "source": [
        "Recreating the figure from the Author's publication"
      ],
      "metadata": {
        "id": "hw9eJbLIoVvx"
      }
    },
    {
      "cell_type": "code",
      "execution_count": 19,
      "metadata": {
        "id": "B_SXtJ1lYqsR"
      },
      "outputs": [],
      "source": [
        "#Generating plots for Classification for the Second Challenge to Predict Aqueous Solubility\n",
        "def calc_stats(pred_array, true_array, insol_thresh=-6, sol_thresh=-4):\n",
        "    '''\n",
        "    This function will calculate the following on the predicted array:\n",
        "        Hit% = #correct(lower_sol_thresh,upper_sol_thresh) / #(lower_sol_thresh,upper_sol_thresh)\n",
        "        Fail% = #true(insol_thresh)pred(lower_sol_thresh,upper_sol_thresh) / #pred(lower_sol_thresh,upper_sol_thresh)\n",
        "\n",
        "    Assumptions: pred_array,true_array are paired numpy arrays.\n",
        "    '''\n",
        "\n",
        "    #first we need to access the examples which have true in (lower_sol_thresh, upper_sol_thresh)\n",
        "    true_mask=(true_array > sol_thresh)\n",
        "\n",
        "    #calculating the Hit%\n",
        "    num_true=len(true_array[true_mask])\n",
        "    poss_hits=pred_array[true_mask]\n",
        "    num_hits=np.sum((poss_hits>sol_thresh))\n",
        "    hit=num_hits/float(num_true)\n",
        "\n",
        "    #calculating the Fail%\n",
        "    pred_mask=(pred_array > sol_thresh)\n",
        "    insol_mask=true_array <= insol_thresh\n",
        "    fail=np.sum(insol_mask & pred_mask) / float(np.sum(pred_mask))\n",
        "\n",
        "    return hit,fail,np.sum(true_mask),np.sum(pred_mask)\n"
      ]
    },
    {
      "cell_type": "code",
      "execution_count": 20,
      "metadata": {
        "id": "Ls82IDgrYqrE"
      },
      "outputs": [],
      "source": [
        "data={}\n",
        "\n",
        "#adding the SolTranNet data\n",
        "truths=np.array([])\n",
        "preds=np.array([])\n",
        "for s in ['set1','set2']:\n",
        "    tmp=pd.read_csv('/content/drive/MyDrive/Ersilia/merged_pred.csv')\n",
        "    t=tmp['TRUE']\n",
        "    truths=np.append(truths,t)\n",
        "    p=tmp['pred']\n",
        "    preds=np.append(preds,p)\n",
        "\n",
        "for ins in [-4,-5,-6]:\n",
        "    data[ins]={'hit':[],'fail':[]}\n",
        "    hit,fail,nt,npred=calc_stats(preds,truths,ins,-4)\n",
        "    data[ins]['hit']=[('SolTranNet',hit)]\n",
        "    data[ins]['fail']=[('SolTranNet',fail)]\n"
      ]
    },
    {
      "cell_type": "code",
      "execution_count": 21,
      "metadata": {
        "colab": {
          "base_uri": "https://localhost:8080/"
        },
        "id": "Hn_KAkDSYqmQ",
        "outputId": "4f650f16-dc1d-47d5-a58e-e8ce4c4f01f7"
      },
      "outputs": [
        {
          "output_type": "execute_result",
          "data": {
            "text/plain": [
              "-4.321439393939395"
            ]
          },
          "metadata": {},
          "execution_count": 21
        }
      ],
      "source": [
        "np.mean(truths)"
      ]
    },
    {
      "cell_type": "code",
      "execution_count": 22,
      "metadata": {
        "colab": {
          "base_uri": "https://localhost:8080/",
          "height": 484
        },
        "id": "zWjkVPL1YqlA",
        "outputId": "57da278e-0996-4c9f-a10b-826e6f152f96"
      },
      "outputs": [
        {
          "output_type": "stream",
          "name": "stdout",
          "text": [
            "19\n"
          ]
        },
        {
          "output_type": "execute_result",
          "data": {
            "text/plain": [
              "Text(0, 0.5, 'Count')"
            ]
          },
          "metadata": {},
          "execution_count": 22
        },
        {
          "output_type": "display_data",
          "data": {
            "text/plain": [
              "<Figure size 640x480 with 1 Axes>"
            ],
            "image/png": "[encoded data removed]"
          },
          "metadata": {}
        }
      ],
      "source": [
        "\n",
        "w=0.5\n",
        "n=math.ceil((max(truths)-min(truths))/w)\n",
        "print(n)\n",
        "plt.hist(truths,bins=n)\n",
        "plt.xlabel('Solubility (logS)')\n",
        "plt.ylabel('Count')\n"
      ]
    },
    {
      "cell_type": "markdown",
      "metadata": {
        "id": "CKLxsuOBlf1W"
      },
      "source": [
        "The analysis focuses on the distribution of both SC2 test sets based on solubility classification. Here, solubility is categorized such that a molecule is considered soluble if its logarithmic solubility (log S) is greater than -4.\n",
        "\n",
        "\n",
        "\n",
        "\n",
        "\n",
        "\n"
      ]
    },
    {
      "cell_type": "code",
      "execution_count": 23,
      "metadata": {
        "id": "8sXNTKzrYqf0"
      },
      "outputs": [],
      "source": [
        "import glob\n",
        "all_files=glob.glob(f'/content/drive/MyDrive/Ersilia/submitted/*.csv')\n",
        "keys=set([x.split('/')[-1].split('_set')[0] for x in all_files])\n",
        "for ins in [-4,-5,-6]:\n",
        "    for k in keys:\n",
        "        truths=np.array([])\n",
        "        preds=np.array([])\n",
        "        todo=glob.glob(f'/content/drive/MyDrive/Ersilia/submitted/{k}*.csv')\n",
        "        for fname in todo:\n",
        "            tmp=pd.read_csv(fname)\n",
        "            t=tmp['TRUE']\n",
        "            truths=np.append(truths,t)\n",
        "            p=tmp['PREDICTED']\n",
        "            preds=np.append(preds,p)\n",
        "        hit,fail,nt,npred=calc_stats(preds,truths,ins,-4)\n",
        "        if np.isnan(hit):\n",
        "            print(f'{k} hit is nan')\n",
        "        else:\n",
        "            data[ins]['hit'].append((k,hit))\n",
        "\n",
        "        if np.isnan(fail):\n",
        "            print(f'{k} fail is nan')\n",
        "        else:\n",
        "            data[ins]['fail'].append((k,fail))\n"
      ]
    },
    {
      "cell_type": "code",
      "execution_count": 24,
      "metadata": {
        "colab": {
          "base_uri": "https://localhost:8080/"
        },
        "id": "1RkH7Q5bv5go",
        "outputId": "bffc1a25-1ea4-4422-88bb-807ee02eeff2"
      },
      "outputs": [
        {
          "output_type": "execute_result",
          "data": {
            "text/plain": [
              "{-4: {'hit': [('SolTranNet', 0.9310344827586207),\n",
              "   ('hpsu_a', 0.5517241379310345),\n",
              "   ('jmsa_a', 0.9655172413793104),\n",
              "   ('mlkc_b', 0.896551724137931),\n",
              "   ('mlkc_c', 0.8793103448275862),\n",
              "   ('jhtny', 0.896551724137931),\n",
              "   ('jcsu_a', 0.8793103448275862),\n",
              "   ('umut_a', 0.8793103448275862),\n",
              "   ('astu', 0.7413793103448276),\n",
              "   ('xwuc_a', 0.896551724137931),\n",
              "   ('asll_c', 0.9827586206896551),\n",
              "   ('jmsa_c', 0.9655172413793104),\n",
              "   ('asll_a', 1.0),\n",
              "   ('jhunc_a', 0.9482758620689655),\n",
              "   ('sgurv', 0.7931034482758621),\n",
              "   ('pmsa_a', 0.7586206896551724),\n",
              "   ('jcsu_b', 0.9482758620689655),\n",
              "   ('asll_b', 0.9137931034482759),\n",
              "   ('pmsa_c', 0.7758620689655172),\n",
              "   ('ytacu', 0.7586206896551724),\n",
              "   ('yumpu_b', 0.7758620689655172),\n",
              "   ('nmupi', 0.8275862068965517),\n",
              "   ('jhunc_b', 1.0),\n",
              "   ('hpsu_b', 0.5517241379310345),\n",
              "   ('umut_b', 0.8793103448275862),\n",
              "   ('yumpu_a', 0.7931034482758621),\n",
              "   ('umut_c', 0.896551724137931),\n",
              "   ('flwmu', 0.9482758620689655),\n",
              "   ('mlkc_a', 0.8620689655172413),\n",
              "   ('pmsa_b', 0.7413793103448276),\n",
              "   ('tdipg', 0.8620689655172413),\n",
              "   ('jmsa_b', 0.8793103448275862),\n",
              "   ('jhunc_c', 0.9827586206896551),\n",
              "   ('rfsp_b', 0.9482758620689655),\n",
              "   ('xwuc_b', 0.896551724137931),\n",
              "   ('ksmit', 0.8620689655172413),\n",
              "   ('rfsp_a', 0.9137931034482759),\n",
              "   ('mcsmd', 0.896551724137931)],\n",
              "  'fail': [('SolTranNet', 0.2894736842105263),\n",
              "   ('hpsu_a', 0.43859649122807015),\n",
              "   ('jmsa_a', 0.3170731707317073),\n",
              "   ('mlkc_b', 0.2777777777777778),\n",
              "   ('mlkc_c', 0.3108108108108108),\n",
              "   ('jhtny', 0.3333333333333333),\n",
              "   ('jcsu_a', 0.2608695652173913),\n",
              "   ('umut_a', 0.33766233766233766),\n",
              "   ('astu', 0.29508196721311475),\n",
              "   ('xwuc_a', 0.3246753246753247),\n",
              "   ('asll_c', 0.3870967741935484),\n",
              "   ('jmsa_c', 0.3333333333333333),\n",
              "   ('asll_a', 0.5084745762711864),\n",
              "   ('jhunc_a', 0.22535211267605634),\n",
              "   ('sgurv', 0.22033898305084745),\n",
              "   ('pmsa_a', 0.15384615384615385),\n",
              "   ('jcsu_b', 0.35294117647058826),\n",
              "   ('asll_b', 0.43010752688172044),\n",
              "   ('pmsa_c', 0.16666666666666666),\n",
              "   ('ytacu', 0.2903225806451613),\n",
              "   ('yumpu_b', 0.19642857142857142),\n",
              "   ('nmupi', 0.4606741573033708),\n",
              "   ('jhunc_b', 0.45794392523364486),\n",
              "   ('hpsu_b', 0.23809523809523808),\n",
              "   ('umut_b', 0.2153846153846154),\n",
              "   ('yumpu_a', 0.22033898305084745),\n",
              "   ('umut_c', 0.2571428571428571),\n",
              "   ('flwmu', 0.3956043956043956),\n",
              "   ('mlkc_a', 0.3055555555555556),\n",
              "   ('pmsa_b', 0.14),\n",
              "   ('tdipg', 0.2857142857142857),\n",
              "   ('jmsa_b', 0.32),\n",
              "   ('jhunc_c', 0.4519230769230769),\n",
              "   ('rfsp_b', 0.38202247191011235),\n",
              "   ('xwuc_b', 0.3157894736842105),\n",
              "   ('ksmit', 0.3150684931506849),\n",
              "   ('rfsp_a', 0.35365853658536583),\n",
              "   ('mcsmd', 0.2571428571428571)]},\n",
              " -5: {'hit': [('SolTranNet', 0.9310344827586207),\n",
              "   ('hpsu_a', 0.5517241379310345),\n",
              "   ('jmsa_a', 0.9655172413793104),\n",
              "   ('mlkc_b', 0.896551724137931),\n",
              "   ('mlkc_c', 0.8793103448275862),\n",
              "   ('jhtny', 0.896551724137931),\n",
              "   ('jcsu_a', 0.8793103448275862),\n",
              "   ('umut_a', 0.8793103448275862),\n",
              "   ('astu', 0.7413793103448276),\n",
              "   ('xwuc_a', 0.896551724137931),\n",
              "   ('asll_c', 0.9827586206896551),\n",
              "   ('jmsa_c', 0.9655172413793104),\n",
              "   ('asll_a', 1.0),\n",
              "   ('jhunc_a', 0.9482758620689655),\n",
              "   ('sgurv', 0.7931034482758621),\n",
              "   ('pmsa_a', 0.7586206896551724),\n",
              "   ('jcsu_b', 0.9482758620689655),\n",
              "   ('asll_b', 0.9137931034482759),\n",
              "   ('pmsa_c', 0.7758620689655172),\n",
              "   ('ytacu', 0.7586206896551724),\n",
              "   ('yumpu_b', 0.7758620689655172),\n",
              "   ('nmupi', 0.8275862068965517),\n",
              "   ('jhunc_b', 1.0),\n",
              "   ('hpsu_b', 0.5517241379310345),\n",
              "   ('umut_b', 0.8793103448275862),\n",
              "   ('yumpu_a', 0.7931034482758621),\n",
              "   ('umut_c', 0.896551724137931),\n",
              "   ('flwmu', 0.9482758620689655),\n",
              "   ('mlkc_a', 0.8620689655172413),\n",
              "   ('pmsa_b', 0.7413793103448276),\n",
              "   ('tdipg', 0.8620689655172413),\n",
              "   ('jmsa_b', 0.8793103448275862),\n",
              "   ('jhunc_c', 0.9827586206896551),\n",
              "   ('rfsp_b', 0.9482758620689655),\n",
              "   ('xwuc_b', 0.896551724137931),\n",
              "   ('ksmit', 0.8620689655172413),\n",
              "   ('rfsp_a', 0.9137931034482759),\n",
              "   ('mcsmd', 0.896551724137931)],\n",
              "  'fail': [('SolTranNet', 0.06578947368421052),\n",
              "   ('hpsu_a', 0.17543859649122806),\n",
              "   ('jmsa_a', 0.0975609756097561),\n",
              "   ('mlkc_b', 0.05555555555555555),\n",
              "   ('mlkc_c', 0.05405405405405406),\n",
              "   ('jhtny', 0.15384615384615385),\n",
              "   ('jcsu_a', 0.014492753623188406),\n",
              "   ('umut_a', 0.1038961038961039),\n",
              "   ('astu', 0.01639344262295082),\n",
              "   ('xwuc_a', 0.11688311688311688),\n",
              "   ('asll_c', 0.15053763440860216),\n",
              "   ('jmsa_c', 0.10714285714285714),\n",
              "   ('asll_a', 0.211864406779661),\n",
              "   ('jhunc_a', 0.08450704225352113),\n",
              "   ('sgurv', 0.06779661016949153),\n",
              "   ('pmsa_a', 0.038461538461538464),\n",
              "   ('jcsu_b', 0.12941176470588237),\n",
              "   ('asll_b', 0.20430107526881722),\n",
              "   ('pmsa_c', 0.037037037037037035),\n",
              "   ('ytacu', 0.04838709677419355),\n",
              "   ('yumpu_b', 0.017857142857142856),\n",
              "   ('nmupi', 0.20224719101123595),\n",
              "   ('jhunc_b', 0.18691588785046728),\n",
              "   ('hpsu_b', 0.047619047619047616),\n",
              "   ('umut_b', 0.046153846153846156),\n",
              "   ('yumpu_a', 0.03389830508474576),\n",
              "   ('umut_c', 0.02857142857142857),\n",
              "   ('flwmu', 0.18681318681318682),\n",
              "   ('mlkc_a', 0.05555555555555555),\n",
              "   ('pmsa_b', 0.04),\n",
              "   ('tdipg', 0.07142857142857142),\n",
              "   ('jmsa_b', 0.10666666666666667),\n",
              "   ('jhunc_c', 0.14423076923076922),\n",
              "   ('rfsp_b', 0.14606741573033707),\n",
              "   ('xwuc_b', 0.09210526315789473),\n",
              "   ('ksmit', 0.0684931506849315),\n",
              "   ('rfsp_a', 0.12195121951219512),\n",
              "   ('mcsmd', 0.08571428571428572)]},\n",
              " -6: {'hit': [('SolTranNet', 0.9310344827586207),\n",
              "   ('hpsu_a', 0.5517241379310345),\n",
              "   ('jmsa_a', 0.9655172413793104),\n",
              "   ('mlkc_b', 0.896551724137931),\n",
              "   ('mlkc_c', 0.8793103448275862),\n",
              "   ('jhtny', 0.896551724137931),\n",
              "   ('jcsu_a', 0.8793103448275862),\n",
              "   ('umut_a', 0.8793103448275862),\n",
              "   ('astu', 0.7413793103448276),\n",
              "   ('xwuc_a', 0.896551724137931),\n",
              "   ('asll_c', 0.9827586206896551),\n",
              "   ('jmsa_c', 0.9655172413793104),\n",
              "   ('asll_a', 1.0),\n",
              "   ('jhunc_a', 0.9482758620689655),\n",
              "   ('sgurv', 0.7931034482758621),\n",
              "   ('pmsa_a', 0.7586206896551724),\n",
              "   ('jcsu_b', 0.9482758620689655),\n",
              "   ('asll_b', 0.9137931034482759),\n",
              "   ('pmsa_c', 0.7758620689655172),\n",
              "   ('ytacu', 0.7586206896551724),\n",
              "   ('yumpu_b', 0.7758620689655172),\n",
              "   ('nmupi', 0.8275862068965517),\n",
              "   ('jhunc_b', 1.0),\n",
              "   ('hpsu_b', 0.5517241379310345),\n",
              "   ('umut_b', 0.8793103448275862),\n",
              "   ('yumpu_a', 0.7931034482758621),\n",
              "   ('umut_c', 0.896551724137931),\n",
              "   ('flwmu', 0.9482758620689655),\n",
              "   ('mlkc_a', 0.8620689655172413),\n",
              "   ('pmsa_b', 0.7413793103448276),\n",
              "   ('tdipg', 0.8620689655172413),\n",
              "   ('jmsa_b', 0.8793103448275862),\n",
              "   ('jhunc_c', 0.9827586206896551),\n",
              "   ('rfsp_b', 0.9482758620689655),\n",
              "   ('xwuc_b', 0.896551724137931),\n",
              "   ('ksmit', 0.8620689655172413),\n",
              "   ('rfsp_a', 0.9137931034482759),\n",
              "   ('mcsmd', 0.896551724137931)],\n",
              "  'fail': [('SolTranNet', 0.0),\n",
              "   ('hpsu_a', 0.05263157894736842),\n",
              "   ('jmsa_a', 0.024390243902439025),\n",
              "   ('mlkc_b', 0.013888888888888888),\n",
              "   ('mlkc_c', 0.0),\n",
              "   ('jhtny', 0.02564102564102564),\n",
              "   ('jcsu_a', 0.0),\n",
              "   ('umut_a', 0.012987012987012988),\n",
              "   ('astu', 0.0),\n",
              "   ('xwuc_a', 0.012987012987012988),\n",
              "   ('asll_c', 0.043010752688172046),\n",
              "   ('jmsa_c', 0.023809523809523808),\n",
              "   ('asll_a', 0.07627118644067797),\n",
              "   ('jhunc_a', 0.014084507042253521),\n",
              "   ('sgurv', 0.0),\n",
              "   ('pmsa_a', 0.0),\n",
              "   ('jcsu_b', 0.023529411764705882),\n",
              "   ('asll_b', 0.06451612903225806),\n",
              "   ('pmsa_c', 0.0),\n",
              "   ('ytacu', 0.0),\n",
              "   ('yumpu_b', 0.0),\n",
              "   ('nmupi', 0.0898876404494382),\n",
              "   ('jhunc_b', 0.056074766355140186),\n",
              "   ('hpsu_b', 0.023809523809523808),\n",
              "   ('umut_b', 0.0),\n",
              "   ('yumpu_a', 0.0),\n",
              "   ('umut_c', 0.0),\n",
              "   ('flwmu', 0.06593406593406594),\n",
              "   ('mlkc_a', 0.013888888888888888),\n",
              "   ('pmsa_b', 0.0),\n",
              "   ('tdipg', 0.014285714285714285),\n",
              "   ('jmsa_b', 0.02666666666666667),\n",
              "   ('jhunc_c', 0.0),\n",
              "   ('rfsp_b', 0.033707865168539325),\n",
              "   ('xwuc_b', 0.013157894736842105),\n",
              "   ('ksmit', 0.0),\n",
              "   ('rfsp_a', 0.036585365853658534),\n",
              "   ('mcsmd', 0.0)]}}"
            ]
          },
          "metadata": {},
          "execution_count": 24
        }
      ],
      "source": [
        "data"
      ]
    },
    {
      "cell_type": "code",
      "execution_count": 25,
      "metadata": {
        "colab": {
          "base_uri": "https://localhost:8080/",
          "height": 1000
        },
        "id": "epPi4WRqYqeo",
        "outputId": "f8172349-8bda-4737-e544-78d96b27ff0d"
      },
      "outputs": [
        {
          "output_type": "display_data",
          "data": {
            "text/plain": [
              "<Figure size 950x500 with 1 Axes>"
            ],
            "image/png": "[encoded data removed]"
          },
          "metadata": {}
        },
        {
          "output_type": "display_data",
          "data": {
            "text/plain": [
              "<Figure size 950x500 with 1 Axes>"
            ],
            "image/png": "[encoded data removed]"
          },
          "metadata": {}
        },
        {
          "output_type": "display_data",
          "data": {
            "text/plain": [
              "<Figure size 950x500 with 1 Axes>"
            ],
            "image/png": "[encoded data removed]"
          },
          "metadata": {}
        },
        {
          "output_type": "display_data",
          "data": {
            "text/plain": [
              "<Figure size 950x500 with 1 Axes>"
            ],
            "image/png": "[encoded data removed]"
          },
          "metadata": {}
        }
      ],
      "source": [
        "plotted_sens=False\n",
        "for ins in data:\n",
        "    for k in data[ins]:\n",
        "        if k=='hit':\n",
        "            if plotted_sens:\n",
        "                continue\n",
        "            fig=plt.figure(figsize=(9.5,5))\n",
        "            all_data=sorted(data[ins][k],key=lambda x:x[1],reverse=True)\n",
        "            plt.ylabel('Sensitivity')\n",
        "        else:\n",
        "            fig=plt.figure(figsize=(9.5,5))\n",
        "            all_data=sorted(data[ins][k],key=lambda x:x[1])\n",
        "            plt.ylabel(f'False Discovery Rate: Insoluble <= {ins}')\n",
        "            plt.ylim((0,0.55))\n",
        "\n",
        "        labels=[x[0] for x in all_data]\n",
        "        ys=[x[1] for x in all_data]\n",
        "        x_pos=[i for i,_ in enumerate(all_data)]\n",
        "        colors=['purple' if x[0]=='SolTranNet' else 'green' for x in all_data]\n",
        "        plt.bar(x_pos,ys,color=colors)\n",
        "        plt.xlabel('Group')\n",
        "        plt.xticks(x_pos,labels,rotation='vertical')\n",
        "        plt.savefig(f'/content/drive/MyDrive/Ersilia/Sensitivity_Plots_{ins}Ersilia.png')\n",
        "        plotted_sens=True"
      ]
    },
    {
      "cell_type": "markdown",
      "metadata": {
        "id": "9AJGY09CmW-R"
      },
      "source": [
        "The false discovery rate is calculated with \"insoluble\" defined as log S values less than or equal to -5. Soltrannet is represented by the color purple in this context.\n",
        "\n",
        "The false discovery rate is also computed with \"insoluble\" defined as log S values less than or equal to -6. Once again, Soltrannet is indicated by the color purple.\n",
        "\n",
        "\n",
        "\n",
        "\n",
        "\n",
        "\n"
      ]
    },
    {
      "cell_type": "markdown",
      "metadata": {
        "id": "44zPeHp6mliy"
      },
      "source": [
        "# Assessing model reproducibility by employing the eos6oli model from the Ersilia Model Hub and utilizing the same dataset utilized by the original author.\n",
        "\n",
        "\n",
        "\n",
        "\n",
        "\n",
        "\n"
      ]
    },
    {
      "cell_type": "code",
      "execution_count": 26,
      "metadata": {
        "id": "kn3pnZ87YqZs"
      },
      "outputs": [],
      "source": [
        "#creaing a miniconda environment\n",
        "%%capture\n",
        "%env MINICONDA_INSTALLER_SCRIPT=Miniconda3-py37_4.12.0-Linux-x86_64.sh\n",
        "%env MINICONDA_PREFIX=/usr/local\n",
        "%env PYTHONPATH= \"$PYTHONPATH:/usr/local/lib/python3.7/site-packages\"\n",
        "%env PIP_ROOT_USER_ACTION=ignore\n",
        "!wget https://repo.anaconda.com/miniconda/$MINICONDA_INSTALLER_SCRIPT\n",
        "!chmod +x $MINICONDA_INSTALLER_SCRIPT\n",
        "!./$MINICONDA_INSTALLER_SCRIPT -b -f -p $MINICONDA_PREFIX\n",
        "\n",
        "!python -m pip install git+https://github.com/ersilia-os/ersilia.git\n",
        "!python -m pip install requests --upgrade\n",
        "import sys\n",
        "\n",
        "_ = sys.path.append(\"/usr/local/lib/python3.7/site-packages\")\n",
        "\n",
        "\n"
      ]
    },
    {
      "cell_type": "markdown",
      "metadata": {
        "id": "M1yM2GThnWZ3"
      },
      "source": [
        "# Downloading and running the selected model(eos6oli) in Ersilia Model Hub and to ensure it works"
      ]
    },
    {
      "cell_type": "code",
      "execution_count": 27,
      "metadata": {
        "id": "rkaeGmtEYqYf"
      },
      "outputs": [],
      "source": [
        "model_name = \"eos6oli\""
      ]
    },
    {
      "cell_type": "code",
      "execution_count": 28,
      "metadata": {
        "id": "OPBPEsfBYqTh"
      },
      "outputs": [],
      "source": [
        "#Fetching the Model\n"
      ]
    },
    {
      "cell_type": "code",
      "execution_count": 29,
      "metadata": {
        "colab": {
          "base_uri": "https://localhost:8080/"
        },
        "id": "81NXWDGEYqSY",
        "outputId": "63ea41ea-cf61-44fa-9292-7c213a35d907"
      },
      "outputs": [
        {
          "output_type": "stream",
          "name": "stdout",
          "text": [
            "\u001b[34m⬇️  Fetching model eos6oli: soltrannet-aqueous-solubility\u001b[0m\n",
            "sudo: unknown user udockerusername\r\n",
            "sudo: error initializing audit plugin sudoers_audit\r\n",
            "[]\n",
            "sudo: unknown user udockerusername\n",
            "sudo: error initializing audit plugin sudoers_audit\n",
            "sudo: unknown user udockerusername\n",
            "sudo: error initializing audit plugin sudoers_audit\n",
            "sudo: unknown user udockerusername\n",
            "sudo: error initializing audit plugin sudoers_audit\n",
            "\u001b[32m🚀 Serving model eos6oli: soltrannet-aqueous-solubility\u001b[0m\n",
            "\u001b[0m\n",
            "\u001b[33m   URL: http://127.0.0.1:36495\u001b[0m\n",
            "\u001b[33m   PID: 9130\u001b[0m\n",
            "\u001b[33m   SRV: conda\u001b[0m\n",
            "\u001b[0m\n",
            "\u001b[34m👉 To run model:\u001b[0m\n",
            "\u001b[34m   - run\u001b[0m\n",
            "\u001b[0m\n",
            "\u001b[34m💁 Information:\u001b[0m\n",
            "\u001b[34m   - info\u001b[0m\n",
            "sudo: unknown user udockerusername\n",
            "sudo: error initializing audit plugin sudoers_audit\n",
            "\u001b[32m⛔ Model eos6oli closed\u001b[0m\n",
            "\u001b[32m👍 Model eos6oli fetched successfully!\u001b[0m\n",
            "Time taken: 204.69 seconds\n"
          ]
        }
      ],
      "source": [
        "# Fetching the model\n",
        "import time\n",
        "\n",
        "begin = time.time()\n",
        "!ersilia fetch $model_name\n",
        "end = time.time()\n",
        "\n",
        "print(\"Time taken:\", round((end - begin), 2), \"seconds\")\n"
      ]
    },
    {
      "cell_type": "markdown",
      "metadata": {
        "id": "_LHN4cMbn4-l"
      },
      "source": [
        "# Serving the Model"
      ]
    },
    {
      "cell_type": "code",
      "execution_count": 30,
      "metadata": {
        "colab": {
          "base_uri": "https://localhost:8080/"
        },
        "id": "QDq1qlzoYqNP",
        "outputId": "77f08cff-11c8-42a3-a252-b1a55c3969f1"
      },
      "outputs": [
        {
          "output_type": "stream",
          "name": "stdout",
          "text": [
            "sudo: unknown user udockerusername\r\n",
            "sudo: error initializing audit plugin sudoers_audit\r\n",
            "sudo: unknown user udockerusername\r\n",
            "sudo: error initializing audit plugin sudoers_audit\r\n",
            "\u001b[32m🚀 Serving model eos6oli: soltrannet-aqueous-solubility\u001b[0m\n",
            "\u001b[0m\n",
            "\u001b[33m   URL: http://127.0.0.1:51885\u001b[0m\n",
            "\u001b[33m   PID: 9378\u001b[0m\n",
            "\u001b[33m   SRV: conda\u001b[0m\n",
            "\u001b[0m\n",
            "\u001b[34m👉 To run model:\u001b[0m\n",
            "\u001b[34m   - run\u001b[0m\n",
            "\u001b[0m\n",
            "\u001b[34m💁 Information:\u001b[0m\n",
            "\u001b[34m   - info\u001b[0m\n"
          ]
        }
      ],
      "source": [
        "# Serving the model\n",
        "\n",
        "# returns available APIs (calculate or predict)\n",
        "\n",
        "!ersilia serve $model_name\n"
      ]
    },
    {
      "cell_type": "markdown",
      "metadata": {
        "id": "jhgzUzaLoGoL"
      },
      "source": [
        "# Running Predictions Using Soltrannet Data\n"
      ]
    },
    {
      "cell_type": "code",
      "execution_count": 31,
      "metadata": {
        "colab": {
          "base_uri": "https://localhost:8080/"
        },
        "id": "LnICpUhOYqMB",
        "outputId": "8eee3831-774f-4756-b7fe-8be3b3e7dda1"
      },
      "outputs": [
        {
          "output_type": "stream",
          "name": "stdout",
          "text": [
            "Successful 👍! Time taken: 18.32 seconds\n"
          ]
        }
      ],
      "source": [
        "#Running predictions\n",
        "api = \"calculate\"\n",
        "\n",
        "from ersilia import ErsiliaModel\n",
        "import time\n",
        "\n",
        "model = ErsiliaModel(model_name)\n",
        "begin = time.time()\n",
        "output = model.api(input=smiles, output=\"pandas\")\n",
        "end = time.time()\n",
        "\n",
        "print(\"Successful 👍! Time taken:\", round((end - begin), 2), \"seconds\")\n",
        "model.close()\n",
        "\n"
      ]
    },
    {
      "cell_type": "code",
      "execution_count": 32,
      "metadata": {
        "id": "De0FvBIPYqGA",
        "colab": {
          "base_uri": "https://localhost:8080/"
        },
        "outputId": "13a61ecd-3afb-42fa-afb8-7452660f22f6"
      },
      "outputs": [
        {
          "output_type": "stream",
          "name": "stdout",
          "text": [
            "                           key  \\\n",
            "0  BZKPWHYZMXOIDC-UHFFFAOYSA-N   \n",
            "1  BSYNRYMUTXBXSQ-UHFFFAOYSA-N   \n",
            "2  ARHWPKZXBHOEEE-UHFFFAOYSA-N   \n",
            "3  JBDGDEWWOUBZPM-XYPYZODXSA-N   \n",
            "4  CEUORZQYGODEFX-UHFFFAOYSA-N   \n",
            "\n",
            "                                               input  solubility  \n",
            "0                     CC(NC1=NN=C(S1)[S](N)(=O)=O)=O      -1.242  \n",
            "1                         C(C)(=O)OC1=CC=CC=C1C(=O)O      -1.858  \n",
            "2                           C=CCOc1ccc(cc1Cl)CC(=O)O      -3.120  \n",
            "3           O[C@@H]2CC[C@@H](NCc1cc(Br)cc(Br)c1N)CC2      -2.199  \n",
            "4  O=C1Nc2c(ccc(OCCCCN3CCN(c4c(Cl)c(Cl)ccc4)CC3)c...      -5.205  \n"
          ]
        }
      ],
      "source": [
        "# Checking the results\n",
        "\n",
        "print(output.head())\n"
      ]
    },
    {
      "cell_type": "code",
      "execution_count": 33,
      "metadata": {
        "id": "nDtP2xoKYqE2"
      },
      "outputs": [],
      "source": [
        "#Saving results in Google Drive\n",
        "\n",
        "output.to_csv(\"/content/drive/MyDrive/Ersilia/Soltranet_Ersilia.csv\", index=False)\n"
      ]
    },
    {
      "cell_type": "code",
      "source": [
        "ErsiliaSoltranet=pd.read_csv(\"/content/drive/MyDrive/Ersilia/Soltranet_Ersilia.csv\")\n",
        "ErsiliaSoltranet.head()"
      ],
      "metadata": {
        "id": "s5MDfbsjtPae",
        "outputId": "8a6e4d9d-33e1-4ede-f2de-d93645c25850",
        "colab": {
          "base_uri": "https://localhost:8080/",
          "height": 206
        }
      },
      "execution_count": 38,
      "outputs": [
        {
          "output_type": "execute_result",
          "data": {
            "text/plain": [
              "                           key  \\\n",
              "0  BZKPWHYZMXOIDC-UHFFFAOYSA-N   \n",
              "1  BSYNRYMUTXBXSQ-UHFFFAOYSA-N   \n",
              "2  ARHWPKZXBHOEEE-UHFFFAOYSA-N   \n",
              "3  JBDGDEWWOUBZPM-XYPYZODXSA-N   \n",
              "4  CEUORZQYGODEFX-UHFFFAOYSA-N   \n",
              "\n",
              "                                               input  solubility  \n",
              "0                     CC(NC1=NN=C(S1)[S](N)(=O)=O)=O      -1.242  \n",
              "1                         C(C)(=O)OC1=CC=CC=C1C(=O)O      -1.858  \n",
              "2                           C=CCOc1ccc(cc1Cl)CC(=O)O      -3.120  \n",
              "3           O[C@@H]2CC[C@@H](NCc1cc(Br)cc(Br)c1N)CC2      -2.199  \n",
              "4  O=C1Nc2c(ccc(OCCCCN3CCN(c4c(Cl)c(Cl)ccc4)CC3)c...      -5.205  "
            ],
            "text/html": [
              "\n",
              "  <div id=\"df-306cb26c-7a32-44a2-9eed-beaf63c45447\" class=\"colab-df-container\">\n",
              "    <div>\n",
              "<style scoped>\n",
              "    .dataframe tbody tr th:only-of-type {\n",
              "        vertical-align: middle;\n",
              "    }\n",
              "\n",
              "    .dataframe tbody tr th {\n",
              "        vertical-align: top;\n",
              "    }\n",
              "\n",
              "    .dataframe thead th {\n",
              "        text-align: right;\n",
              "    }\n",
              "</style>\n",
              "<table border=\"1\" class=\"dataframe\">\n",
              "  <thead>\n",
              "    <tr style=\"text-align: right;\">\n",
              "      <th></th>\n",
              "      <th>key</th>\n",
              "      <th>input</th>\n",
              "      <th>solubility</th>\n",
              "    </tr>\n",
              "  </thead>\n",
              "  <tbody>\n",
              "    <tr>\n",
              "      <th>0</th>\n",
              "      <td>BZKPWHYZMXOIDC-UHFFFAOYSA-N</td>\n",
              "      <td>CC(NC1=NN=C(S1)[S](N)(=O)=O)=O</td>\n",
              "      <td>-1.242</td>\n",
              "    </tr>\n",
              "    <tr>\n",
              "      <th>1</th>\n",
              "      <td>BSYNRYMUTXBXSQ-UHFFFAOYSA-N</td>\n",
              "      <td>C(C)(=O)OC1=CC=CC=C1C(=O)O</td>\n",
              "      <td>-1.858</td>\n",
              "    </tr>\n",
              "    <tr>\n",
              "      <th>2</th>\n",
              "      <td>ARHWPKZXBHOEEE-UHFFFAOYSA-N</td>\n",
              "      <td>C=CCOc1ccc(cc1Cl)CC(=O)O</td>\n",
              "      <td>-3.120</td>\n",
              "    </tr>\n",
              "    <tr>\n",
              "      <th>3</th>\n",
              "      <td>JBDGDEWWOUBZPM-XYPYZODXSA-N</td>\n",
              "      <td>O[C@@H]2CC[C@@H](NCc1cc(Br)cc(Br)c1N)CC2</td>\n",
              "      <td>-2.199</td>\n",
              "    </tr>\n",
              "    <tr>\n",
              "      <th>4</th>\n",
              "      <td>CEUORZQYGODEFX-UHFFFAOYSA-N</td>\n",
              "      <td>O=C1Nc2c(ccc(OCCCCN3CCN(c4c(Cl)c(Cl)ccc4)CC3)c...</td>\n",
              "      <td>-5.205</td>\n",
              "    </tr>\n",
              "  </tbody>\n",
              "</table>\n",
              "</div>\n",
              "    <div class=\"colab-df-buttons\">\n",
              "\n",
              "  <div class=\"colab-df-container\">\n",
              "    <button class=\"colab-df-convert\" onclick=\"convertToInteractive('df-306cb26c-7a32-44a2-9eed-beaf63c45447')\"\n",
              "            title=\"Convert this dataframe to an interactive table.\"\n",
              "            style=\"display:none;\">\n",
              "\n",
              "  <svg xmlns=\"http://www.w3.org/2000/svg\" height=\"24px\" viewBox=\"0 -960 960 960\">\n",
              "    <path d=\"M120-120v-720h720v720H120Zm60-500h600v-160H180v160Zm220 220h160v-160H400v160Zm0 220h160v-160H400v160ZM180-400h160v-160H180v160Zm440 0h160v-160H620v160ZM180-180h160v-160H180v160Zm440 0h160v-160H620v160Z\"/>\n",
              "  </svg>\n",
              "    </button>\n",
              "\n",
              "  <style>\n",
              "    .colab-df-container {\n",
              "      display:flex;\n",
              "      gap: 12px;\n",
              "    }\n",
              "\n",
              "    .colab-df-convert {\n",
              "      background-color: #E8F0FE;\n",
              "      border: none;\n",
              "      border-radius: 50%;\n",
              "      cursor: pointer;\n",
              "      display: none;\n",
              "      fill: #1967D2;\n",
              "      height: 32px;\n",
              "      padding: 0 0 0 0;\n",
              "      width: 32px;\n",
              "    }\n",
              "\n",
              "    .colab-df-convert:hover {\n",
              "      background-color: #E2EBFA;\n",
              "      box-shadow: 0px 1px 2px rgba(60, 64, 67, 0.3), 0px 1px 3px 1px rgba(60, 64, 67, 0.15);\n",
              "      fill: #174EA6;\n",
              "    }\n",
              "\n",
              "    .colab-df-buttons div {\n",
              "      margin-bottom: 4px;\n",
              "    }\n",
              "\n",
              "    [theme=dark] .colab-df-convert {\n",
              "      background-color: #3B4455;\n",
              "      fill: #D2E3FC;\n",
              "    }\n",
              "\n",
              "    [theme=dark] .colab-df-convert:hover {\n",
              "      background-color: #434B5C;\n",
              "      box-shadow: 0px 1px 3px 1px rgba(0, 0, 0, 0.15);\n",
              "      filter: drop-shadow(0px 1px 2px rgba(0, 0, 0, 0.3));\n",
              "      fill: #FFFFFF;\n",
              "    }\n",
              "  </style>\n",
              "\n",
              "    <script>\n",
              "      const buttonEl =\n",
              "        document.querySelector('#df-306cb26c-7a32-44a2-9eed-beaf63c45447 button.colab-df-convert');\n",
              "      buttonEl.style.display =\n",
              "        google.colab.kernel.accessAllowed ? 'block' : 'none';\n",
              "\n",
              "      async function convertToInteractive(key) {\n",
              "        const element = document.querySelector('#df-306cb26c-7a32-44a2-9eed-beaf63c45447');\n",
              "        const dataTable =\n",
              "          await google.colab.kernel.invokeFunction('convertToInteractive',\n",
              "                                                    [key], {});\n",
              "        if (!dataTable) return;\n",
              "\n",
              "        const docLinkHtml = 'Like what you see? Visit the ' +\n",
              "          '<a target=\"_blank\" href=https://colab.research.google.com/notebooks/data_table.ipynb>data table notebook</a>'\n",
              "          + ' to learn more about interactive tables.';\n",
              "        element.innerHTML = '';\n",
              "        dataTable['output_type'] = 'display_data';\n",
              "        await google.colab.output.renderOutput(dataTable, element);\n",
              "        const docLink = document.createElement('div');\n",
              "        docLink.innerHTML = docLinkHtml;\n",
              "        element.appendChild(docLink);\n",
              "      }\n",
              "    </script>\n",
              "  </div>\n",
              "\n",
              "\n",
              "<div id=\"df-0bda85ae-1c9d-4c68-b339-17b7320f2b06\">\n",
              "  <button class=\"colab-df-quickchart\" onclick=\"quickchart('df-0bda85ae-1c9d-4c68-b339-17b7320f2b06')\"\n",
              "            title=\"Suggest charts\"\n",
              "            style=\"display:none;\">\n",
              "\n",
              "<svg xmlns=\"http://www.w3.org/2000/svg\" height=\"24px\"viewBox=\"0 0 24 24\"\n",
              "     width=\"24px\">\n",
              "    <g>\n",
              "        <path d=\"M19 3H5c-1.1 0-2 .9-2 2v14c0 1.1.9 2 2 2h14c1.1 0 2-.9 2-2V5c0-1.1-.9-2-2-2zM9 17H7v-7h2v7zm4 0h-2V7h2v10zm4 0h-2v-4h2v4z\"/>\n",
              "    </g>\n",
              "</svg>\n",
              "  </button>\n",
              "\n",
              "<style>\n",
              "  .colab-df-quickchart {\n",
              "      --bg-color: #E8F0FE;\n",
              "      --fill-color: #1967D2;\n",
              "      --hover-bg-color: #E2EBFA;\n",
              "      --hover-fill-color: #174EA6;\n",
              "      --disabled-fill-color: #AAA;\n",
              "      --disabled-bg-color: #DDD;\n",
              "  }\n",
              "\n",
              "  [theme=dark] .colab-df-quickchart {\n",
              "      --bg-color: #3B4455;\n",
              "      --fill-color: #D2E3FC;\n",
              "      --hover-bg-color: #434B5C;\n",
              "      --hover-fill-color: #FFFFFF;\n",
              "      --disabled-bg-color: #3B4455;\n",
              "      --disabled-fill-color: #666;\n",
              "  }\n",
              "\n",
              "  .colab-df-quickchart {\n",
              "    background-color: var(--bg-color);\n",
              "    border: none;\n",
              "    border-radius: 50%;\n",
              "    cursor: pointer;\n",
              "    display: none;\n",
              "    fill: var(--fill-color);\n",
              "    height: 32px;\n",
              "    padding: 0;\n",
              "    width: 32px;\n",
              "  }\n",
              "\n",
              "  .colab-df-quickchart:hover {\n",
              "    background-color: var(--hover-bg-color);\n",
              "    box-shadow: 0 1px 2px rgba(60, 64, 67, 0.3), 0 1px 3px 1px rgba(60, 64, 67, 0.15);\n",
              "    fill: var(--button-hover-fill-color);\n",
              "  }\n",
              "\n",
              "  .colab-df-quickchart-complete:disabled,\n",
              "  .colab-df-quickchart-complete:disabled:hover {\n",
              "    background-color: var(--disabled-bg-color);\n",
              "    fill: var(--disabled-fill-color);\n",
              "    box-shadow: none;\n",
              "  }\n",
              "\n",
              "  .colab-df-spinner {\n",
              "    border: 2px solid var(--fill-color);\n",
              "    border-color: transparent;\n",
              "    border-bottom-color: var(--fill-color);\n",
              "    animation:\n",
              "      spin 1s steps(1) infinite;\n",
              "  }\n",
              "\n",
              "  @keyframes spin {\n",
              "    0% {\n",
              "      border-color: transparent;\n",
              "      border-bottom-color: var(--fill-color);\n",
              "      border-left-color: var(--fill-color);\n",
              "    }\n",
              "    20% {\n",
              "      border-color: transparent;\n",
              "      border-left-color: var(--fill-color);\n",
              "      border-top-color: var(--fill-color);\n",
              "    }\n",
              "    30% {\n",
              "      border-color: transparent;\n",
              "      border-left-color: var(--fill-color);\n",
              "      border-top-color: var(--fill-color);\n",
              "      border-right-color: var(--fill-color);\n",
              "    }\n",
              "    40% {\n",
              "      border-color: transparent;\n",
              "      border-right-color: var(--fill-color);\n",
              "      border-top-color: var(--fill-color);\n",
              "    }\n",
              "    60% {\n",
              "      border-color: transparent;\n",
              "      border-right-color: var(--fill-color);\n",
              "    }\n",
              "    80% {\n",
              "      border-color: transparent;\n",
              "      border-right-color: var(--fill-color);\n",
              "      border-bottom-color: var(--fill-color);\n",
              "    }\n",
              "    90% {\n",
              "      border-color: transparent;\n",
              "      border-bottom-color: var(--fill-color);\n",
              "    }\n",
              "  }\n",
              "</style>\n",
              "\n",
              "  <script>\n",
              "    async function quickchart(key) {\n",
              "      const quickchartButtonEl =\n",
              "        document.querySelector('#' + key + ' button');\n",
              "      quickchartButtonEl.disabled = true;  // To prevent multiple clicks.\n",
              "      quickchartButtonEl.classList.add('colab-df-spinner');\n",
              "      try {\n",
              "        const charts = await google.colab.kernel.invokeFunction(\n",
              "            'suggestCharts', [key], {});\n",
              "      } catch (error) {\n",
              "        console.error('Error during call to suggestCharts:', error);\n",
              "      }\n",
              "      quickchartButtonEl.classList.remove('colab-df-spinner');\n",
              "      quickchartButtonEl.classList.add('colab-df-quickchart-complete');\n",
              "    }\n",
              "    (() => {\n",
              "      let quickchartButtonEl =\n",
              "        document.querySelector('#df-0bda85ae-1c9d-4c68-b339-17b7320f2b06 button');\n",
              "      quickchartButtonEl.style.display =\n",
              "        google.colab.kernel.accessAllowed ? 'block' : 'none';\n",
              "    })();\n",
              "  </script>\n",
              "</div>\n",
              "\n",
              "    </div>\n",
              "  </div>\n"
            ],
            "application/vnd.google.colaboratory.intrinsic+json": {
              "type": "dataframe",
              "variable_name": "ErsiliaSoltranet",
              "summary": "{\n  \"name\": \"ErsiliaSoltranet\",\n  \"rows\": 132,\n  \"fields\": [\n    {\n      \"column\": \"key\",\n      \"properties\": {\n        \"dtype\": \"string\",\n        \"num_unique_values\": 132,\n        \"samples\": [\n          \"XMAYWYJOQHXEEK-OZXSUGGESA-N\",\n          \"LUKBXSAWLPMMSZ-OWOJBTEDSA-N\",\n          \"RKWGIWYCVPQPMF-UHFFFAOYSA-N\"\n        ],\n        \"semantic_type\": \"\",\n        \"description\": \"\"\n      }\n    },\n    {\n      \"column\": \"input\",\n      \"properties\": {\n        \"dtype\": \"string\",\n        \"num_unique_values\": 132,\n        \"samples\": [\n          \"[C@]4(C1=CC=C(C=C1Cl)Cl)(O[C@@H](COC3=CC=C(N2CCN(C(C)=O)CC2)C=C3)CO4)C[N]5C=CN=C5\",\n          \"c1cc(ccc1/C=C/c2cc(cc(c2)O)O)O\",\n          \"O=S(=O)(NC(=O)NCCC)c1ccc(Cl)cc1\"\n        ],\n        \"semantic_type\": \"\",\n        \"description\": \"\"\n      }\n    },\n    {\n      \"column\": \"solubility\",\n      \"properties\": {\n        \"dtype\": \"number\",\n        \"std\": 1.4478064838297546,\n        \"min\": -8.656,\n        \"max\": -1.193,\n        \"num_unique_values\": 129,\n        \"samples\": [\n          -3.968,\n          -2.408,\n          -3.338\n        ],\n        \"semantic_type\": \"\",\n        \"description\": \"\"\n      }\n    }\n  ]\n}"
            }
          },
          "metadata": {},
          "execution_count": 38
        }
      ]
    },
    {
      "cell_type": "code",
      "execution_count": 40,
      "metadata": {
        "id": "24zs3NiVoeXN",
        "colab": {
          "base_uri": "https://localhost:8080/"
        },
        "outputId": "38648a7a-08a5-4381-a934-bda2be1141a3"
      },
      "outputs": [
        {
          "output_type": "stream",
          "name": "stdout",
          "text": [
            "                             key  \\\n",
            "0    BZKPWHYZMXOIDC-UHFFFAOYSA-N   \n",
            "1    BSYNRYMUTXBXSQ-UHFFFAOYSA-N   \n",
            "2    ARHWPKZXBHOEEE-UHFFFAOYSA-N   \n",
            "3    JBDGDEWWOUBZPM-XYPYZODXSA-N   \n",
            "4    CEUORZQYGODEFX-UHFFFAOYSA-N   \n",
            "..                           ...   \n",
            "127  ZZORFUFYDOWNEF-UHFFFAOYSA-N   \n",
            "128  NKANXQFJJICGDU-QPLCGJKRSA-N   \n",
            "129  RMMXLENWKUUMAY-UHFFFAOYSA-N   \n",
            "130  GUGOEEXESWIERI-UHFFFAOYSA-N   \n",
            "131  WJCNZQLZVWNLKY-UHFFFAOYSA-N   \n",
            "\n",
            "                                                 input  solubility  \\\n",
            "0                       CC(NC1=NN=C(S1)[S](N)(=O)=O)=O      -1.242   \n",
            "1                           C(C)(=O)OC1=CC=CC=C1C(=O)O      -1.858   \n",
            "2                             C=CCOc1ccc(cc1Cl)CC(=O)O      -3.120   \n",
            "3             O[C@@H]2CC[C@@H](NCc1cc(Br)cc(Br)c1N)CC2      -2.199   \n",
            "4    O=C1Nc2c(ccc(OCCCCN3CCN(c4c(Cl)c(Cl)ccc4)CC3)c...      -5.205   \n",
            "..                                                 ...         ...   \n",
            "127      C1=C(N=C(N=C1N[S](C2=CC=C(N)C=C2)(=O)=O)OC)OC      -3.681   \n",
            "128  C1=CC(=CC=C1\\C(=C(C2=CC=CC=C2)\\CC)C3=CC=CC=C3)...      -5.474   \n",
            "129  CCCc1nc2c(cc(cc2n1Cc3ccc(cc3)c4ccccc4C(=O)O)c5...      -7.919   \n",
            "130  C1=CC=CC=C1C(C3CCN(CCCC(C2=CC=C(C(C)(C)C)C=C2)...      -4.835   \n",
            "131                  C3=CC1=C([NH]C(=N1)C2=CSC=N2)C=C3      -3.475   \n",
            "\n",
            "                                                smiles  true  \n",
            "0                       CC(NC1=NN=C(S1)[S](N)(=O)=O)=O -2.38  \n",
            "1                           C(C)(=O)OC1=CC=CC=C1C(=O)O -1.67  \n",
            "2                             C=CCOc1ccc(cc1Cl)CC(=O)O -4.40  \n",
            "3             O[C@@H]2CC[C@@H](NCc1cc(Br)cc(Br)c1N)CC2 -3.87  \n",
            "4    O=C1Nc2c(ccc(OCCCCN3CCN(c4c(Cl)c(Cl)ccc4)CC3)c... -6.64  \n",
            "..                                                 ...   ...  \n",
            "127      C1=C(N=C(N=C1N[S](C2=CC=C(N)C=C2)(=O)=O)OC)OC -3.74  \n",
            "128  C1=CC(=CC=C1\\C(=C(C2=CC=CC=C2)\\CC)C3=CC=CC=C3)... -7.52  \n",
            "129  CCCc1nc2c(cc(cc2n1Cc3ccc(cc3)c4ccccc4C(=O)O)c5... -6.73  \n",
            "130  C1=CC=CC=C1C(C3CCN(CCCC(C2=CC=C(C(C)(C)C)C=C2)... -7.74  \n",
            "131                  C3=CC1=C([NH]C(=N1)C2=CSC=N2)C=C3 -3.97  \n",
            "\n",
            "[132 rows x 5 columns]\n"
          ]
        }
      ],
      "source": [
        "#matching outputs with SMILES and returning the true solubility values\n",
        "# Merging dataframes\n",
        "merged_predictions = pd.merge(ErsiliaSoltranet, df[['smiles', 'log S0']], how='left', left_on='input', right_on='smiles')\n",
        "\n",
        "# Renaming and dropping redundant columns\n",
        "\n",
        "merged_predictions = merged_predictions.rename(columns={'log S0': 'true'})\n",
        "\n",
        "# Displaying the result\n",
        "print(merged_predictions)\n"
      ]
    },
    {
      "cell_type": "code",
      "source": [
        "#specifying path to the merged prediction\n",
        "merged_predictions.to_csv(\"/content/drive/MyDrive/Ersilia/merged_Ersiliapredictions.csv\", index=False)\n"
      ],
      "metadata": {
        "id": "tABJYrHmuW1Y"
      },
      "execution_count": 41,
      "outputs": []
    },
    {
      "cell_type": "markdown",
      "metadata": {
        "id": "MK3_Zu_aowQk"
      },
      "source": [
        "# Recreating the results from the publication generated with SC2 datasets using the predictions gotten from Ersilia model\n"
      ]
    },
    {
      "cell_type": "code",
      "execution_count": 44,
      "metadata": {
        "id": "ZKCl3yLPoeeJ"
      },
      "outputs": [],
      "source": [
        "def calc_stats(pred_array, true_array, insol_thresh=-6, sol_thresh=-4):\n",
        "    '''\n",
        "    This function will calculate the following on the predicted array:\n",
        "        Hit% = #correct(lower_sol_thresh,upper_sol_thresh) / #(lower_sol_thresh,upper_sol_thresh)\n",
        "        Fail% = #true(insol_thresh)pred(lower_sol_thresh,upper_sol_thresh) / #pred(lower_sol_thresh,upper_sol_thresh)\n",
        "\n",
        "    Assumptions: pred_array,true_array are paired numpy arrays.\n",
        "    '''\n",
        "\n",
        "    #first we need to access the examples which have true in (lower_sol_thresh, upper_sol_thresh)\n",
        "    true_mask=(true_array > sol_thresh)\n",
        "\n",
        "    #calculating the Hit%\n",
        "    num_true=len(true_array[true_mask])\n",
        "    poss_hits=pred_array[true_mask]\n",
        "    num_hits=np.sum((poss_hits>sol_thresh))\n",
        "    hit=num_hits/float(num_true)\n",
        "\n",
        "    #calculating the Fail%\n",
        "    pred_mask=(pred_array > sol_thresh)\n",
        "    insol_mask=true_array <= insol_thresh\n",
        "    fail=np.sum(insol_mask & pred_mask) / float(np.sum(pred_mask))\n",
        "\n",
        "    return hit,fail,np.sum(true_mask),np.sum(pred_mask)\n",
        "\n"
      ]
    },
    {
      "cell_type": "code",
      "execution_count": 46,
      "metadata": {
        "id": "cGgtplKgoeml"
      },
      "outputs": [],
      "source": [
        "data={}\n",
        "\n",
        "#adding the SolTranNet data\n",
        "truths=np.array([])\n",
        "preds=np.array([])\n",
        "for s in ['set1','set2']:\n",
        "    tmp=pd.read_csv('/content/drive/MyDrive/Ersilia/merged_Ersiliapredictions.csv')\n",
        "    t=tmp['true']\n",
        "    truths=np.append(truths,t)\n",
        "    p=tmp['solubility']\n",
        "    preds=np.append(preds,p)\n",
        "\n",
        "for ins in [-4,-5,-6]:\n",
        "    data[ins]={'hit':[],'fail':[]}\n",
        "    hit,fail,nt,npred=calc_stats(preds,truths,ins,-4)\n",
        "    data[ins]['hit']=[('SolTranNet',hit)]\n",
        "    data[ins]['fail']=[('SolTranNet',fail)]\n",
        "\n"
      ]
    },
    {
      "cell_type": "code",
      "execution_count": 47,
      "metadata": {
        "id": "r9HvxL-ZoetP",
        "colab": {
          "base_uri": "https://localhost:8080/"
        },
        "outputId": "70923e12-b862-448d-e4a0-06fda7dcaedb"
      },
      "outputs": [
        {
          "output_type": "execute_result",
          "data": {
            "text/plain": [
              "-4.321439393939395"
            ]
          },
          "metadata": {},
          "execution_count": 47
        }
      ],
      "source": [
        "np.mean(truths)"
      ]
    },
    {
      "cell_type": "code",
      "execution_count": 48,
      "metadata": {
        "id": "WtVnXI_7oezb",
        "colab": {
          "base_uri": "https://localhost:8080/",
          "height": 466
        },
        "outputId": "2e60fb98-0373-42c0-d84f-ac84d1f20323"
      },
      "outputs": [
        {
          "output_type": "stream",
          "name": "stdout",
          "text": [
            "19\n"
          ]
        },
        {
          "output_type": "display_data",
          "data": {
            "text/plain": [
              "<Figure size 640x480 with 1 Axes>"
            ],
            "image/png": "[encoded data removed]"
          },
          "metadata": {}
        }
      ],
      "source": [
        "w=0.5\n",
        "n=math.ceil((max(truths)-min(truths))/w)\n",
        "print(n)\n",
        "plt.hist(truths,bins=n)\n",
        "plt.xlabel('Solubility (logS)')\n",
        "plt.ylabel('Count')\n",
        "plt.savefig('/content/drive/MyDrive/Ersilia/Reproducibility_Histplot_Ersilia.png')\n"
      ]
    },
    {
      "cell_type": "code",
      "execution_count": 49,
      "metadata": {
        "id": "B6WqUfvLoe6P"
      },
      "outputs": [],
      "source": [
        "import glob\n",
        "all_files=glob.glob(f'/content/drive/MyDrive/Ersilia/submitted/*.csv')\n",
        "keys=set([x.split('/')[-1].split('_set')[0] for x in all_files])\n",
        "for ins in [-4,-5,-6]:\n",
        "    for k in keys:\n",
        "        truths=np.array([])\n",
        "        preds=np.array([])\n",
        "        todo=glob.glob(f'/content/drive/MyDrive/Ersilia/submitted/{k}*.csv')\n",
        "        for fname in todo:\n",
        "            tmp=pd.read_csv(fname)\n",
        "            t=tmp['TRUE']\n",
        "            truths=np.append(truths,t)\n",
        "            p=tmp['PREDICTED']\n",
        "            preds=np.append(preds,p)\n",
        "        hit,fail,nt,npred=calc_stats(preds,truths,ins,-4)\n",
        "        if np.isnan(hit):\n",
        "            print(f'{k} hit is nan')\n",
        "        else:\n",
        "            data[ins]['hit'].append((k,hit))\n",
        "\n",
        "        if np.isnan(fail):\n",
        "            print(f'{k} fail is nan')\n",
        "        else:\n",
        "            data[ins]['fail'].append((k,fail))\n",
        "\n"
      ]
    },
    {
      "cell_type": "code",
      "execution_count": 50,
      "metadata": {
        "id": "YMiFrCOup6Io",
        "colab": {
          "base_uri": "https://localhost:8080/"
        },
        "outputId": "ba84cc07-c1d3-4947-870d-797cc5e72cfc"
      },
      "outputs": [
        {
          "output_type": "execute_result",
          "data": {
            "text/plain": [
              "{-4: {'hit': [('SolTranNet', 0.9310344827586207),\n",
              "   ('hpsu_a', 0.5517241379310345),\n",
              "   ('jmsa_a', 0.9655172413793104),\n",
              "   ('mlkc_b', 0.896551724137931),\n",
              "   ('mlkc_c', 0.8793103448275862),\n",
              "   ('jhtny', 0.896551724137931),\n",
              "   ('jcsu_a', 0.8793103448275862),\n",
              "   ('umut_a', 0.8793103448275862),\n",
              "   ('astu', 0.7413793103448276),\n",
              "   ('xwuc_a', 0.896551724137931),\n",
              "   ('asll_c', 0.9827586206896551),\n",
              "   ('jmsa_c', 0.9655172413793104),\n",
              "   ('asll_a', 1.0),\n",
              "   ('jhunc_a', 0.9482758620689655),\n",
              "   ('sgurv', 0.7931034482758621),\n",
              "   ('pmsa_a', 0.7586206896551724),\n",
              "   ('jcsu_b', 0.9482758620689655),\n",
              "   ('asll_b', 0.9137931034482759),\n",
              "   ('pmsa_c', 0.7758620689655172),\n",
              "   ('ytacu', 0.7586206896551724),\n",
              "   ('yumpu_b', 0.7758620689655172),\n",
              "   ('nmupi', 0.8275862068965517),\n",
              "   ('jhunc_b', 1.0),\n",
              "   ('hpsu_b', 0.5517241379310345),\n",
              "   ('umut_b', 0.8793103448275862),\n",
              "   ('yumpu_a', 0.7931034482758621),\n",
              "   ('umut_c', 0.896551724137931),\n",
              "   ('flwmu', 0.9482758620689655),\n",
              "   ('mlkc_a', 0.8620689655172413),\n",
              "   ('pmsa_b', 0.7413793103448276),\n",
              "   ('tdipg', 0.8620689655172413),\n",
              "   ('jmsa_b', 0.8793103448275862),\n",
              "   ('jhunc_c', 0.9827586206896551),\n",
              "   ('rfsp_b', 0.9482758620689655),\n",
              "   ('xwuc_b', 0.896551724137931),\n",
              "   ('ksmit', 0.8620689655172413),\n",
              "   ('rfsp_a', 0.9137931034482759),\n",
              "   ('mcsmd', 0.896551724137931)],\n",
              "  'fail': [('SolTranNet', 0.2894736842105263),\n",
              "   ('hpsu_a', 0.43859649122807015),\n",
              "   ('jmsa_a', 0.3170731707317073),\n",
              "   ('mlkc_b', 0.2777777777777778),\n",
              "   ('mlkc_c', 0.3108108108108108),\n",
              "   ('jhtny', 0.3333333333333333),\n",
              "   ('jcsu_a', 0.2608695652173913),\n",
              "   ('umut_a', 0.33766233766233766),\n",
              "   ('astu', 0.29508196721311475),\n",
              "   ('xwuc_a', 0.3246753246753247),\n",
              "   ('asll_c', 0.3870967741935484),\n",
              "   ('jmsa_c', 0.3333333333333333),\n",
              "   ('asll_a', 0.5084745762711864),\n",
              "   ('jhunc_a', 0.22535211267605634),\n",
              "   ('sgurv', 0.22033898305084745),\n",
              "   ('pmsa_a', 0.15384615384615385),\n",
              "   ('jcsu_b', 0.35294117647058826),\n",
              "   ('asll_b', 0.43010752688172044),\n",
              "   ('pmsa_c', 0.16666666666666666),\n",
              "   ('ytacu', 0.2903225806451613),\n",
              "   ('yumpu_b', 0.19642857142857142),\n",
              "   ('nmupi', 0.4606741573033708),\n",
              "   ('jhunc_b', 0.45794392523364486),\n",
              "   ('hpsu_b', 0.23809523809523808),\n",
              "   ('umut_b', 0.2153846153846154),\n",
              "   ('yumpu_a', 0.22033898305084745),\n",
              "   ('umut_c', 0.2571428571428571),\n",
              "   ('flwmu', 0.3956043956043956),\n",
              "   ('mlkc_a', 0.3055555555555556),\n",
              "   ('pmsa_b', 0.14),\n",
              "   ('tdipg', 0.2857142857142857),\n",
              "   ('jmsa_b', 0.32),\n",
              "   ('jhunc_c', 0.4519230769230769),\n",
              "   ('rfsp_b', 0.38202247191011235),\n",
              "   ('xwuc_b', 0.3157894736842105),\n",
              "   ('ksmit', 0.3150684931506849),\n",
              "   ('rfsp_a', 0.35365853658536583),\n",
              "   ('mcsmd', 0.2571428571428571)]},\n",
              " -5: {'hit': [('SolTranNet', 0.9310344827586207),\n",
              "   ('hpsu_a', 0.5517241379310345),\n",
              "   ('jmsa_a', 0.9655172413793104),\n",
              "   ('mlkc_b', 0.896551724137931),\n",
              "   ('mlkc_c', 0.8793103448275862),\n",
              "   ('jhtny', 0.896551724137931),\n",
              "   ('jcsu_a', 0.8793103448275862),\n",
              "   ('umut_a', 0.8793103448275862),\n",
              "   ('astu', 0.7413793103448276),\n",
              "   ('xwuc_a', 0.896551724137931),\n",
              "   ('asll_c', 0.9827586206896551),\n",
              "   ('jmsa_c', 0.9655172413793104),\n",
              "   ('asll_a', 1.0),\n",
              "   ('jhunc_a', 0.9482758620689655),\n",
              "   ('sgurv', 0.7931034482758621),\n",
              "   ('pmsa_a', 0.7586206896551724),\n",
              "   ('jcsu_b', 0.9482758620689655),\n",
              "   ('asll_b', 0.9137931034482759),\n",
              "   ('pmsa_c', 0.7758620689655172),\n",
              "   ('ytacu', 0.7586206896551724),\n",
              "   ('yumpu_b', 0.7758620689655172),\n",
              "   ('nmupi', 0.8275862068965517),\n",
              "   ('jhunc_b', 1.0),\n",
              "   ('hpsu_b', 0.5517241379310345),\n",
              "   ('umut_b', 0.8793103448275862),\n",
              "   ('yumpu_a', 0.7931034482758621),\n",
              "   ('umut_c', 0.896551724137931),\n",
              "   ('flwmu', 0.9482758620689655),\n",
              "   ('mlkc_a', 0.8620689655172413),\n",
              "   ('pmsa_b', 0.7413793103448276),\n",
              "   ('tdipg', 0.8620689655172413),\n",
              "   ('jmsa_b', 0.8793103448275862),\n",
              "   ('jhunc_c', 0.9827586206896551),\n",
              "   ('rfsp_b', 0.9482758620689655),\n",
              "   ('xwuc_b', 0.896551724137931),\n",
              "   ('ksmit', 0.8620689655172413),\n",
              "   ('rfsp_a', 0.9137931034482759),\n",
              "   ('mcsmd', 0.896551724137931)],\n",
              "  'fail': [('SolTranNet', 0.06578947368421052),\n",
              "   ('hpsu_a', 0.17543859649122806),\n",
              "   ('jmsa_a', 0.0975609756097561),\n",
              "   ('mlkc_b', 0.05555555555555555),\n",
              "   ('mlkc_c', 0.05405405405405406),\n",
              "   ('jhtny', 0.15384615384615385),\n",
              "   ('jcsu_a', 0.014492753623188406),\n",
              "   ('umut_a', 0.1038961038961039),\n",
              "   ('astu', 0.01639344262295082),\n",
              "   ('xwuc_a', 0.11688311688311688),\n",
              "   ('asll_c', 0.15053763440860216),\n",
              "   ('jmsa_c', 0.10714285714285714),\n",
              "   ('asll_a', 0.211864406779661),\n",
              "   ('jhunc_a', 0.08450704225352113),\n",
              "   ('sgurv', 0.06779661016949153),\n",
              "   ('pmsa_a', 0.038461538461538464),\n",
              "   ('jcsu_b', 0.12941176470588237),\n",
              "   ('asll_b', 0.20430107526881722),\n",
              "   ('pmsa_c', 0.037037037037037035),\n",
              "   ('ytacu', 0.04838709677419355),\n",
              "   ('yumpu_b', 0.017857142857142856),\n",
              "   ('nmupi', 0.20224719101123595),\n",
              "   ('jhunc_b', 0.18691588785046728),\n",
              "   ('hpsu_b', 0.047619047619047616),\n",
              "   ('umut_b', 0.046153846153846156),\n",
              "   ('yumpu_a', 0.03389830508474576),\n",
              "   ('umut_c', 0.02857142857142857),\n",
              "   ('flwmu', 0.18681318681318682),\n",
              "   ('mlkc_a', 0.05555555555555555),\n",
              "   ('pmsa_b', 0.04),\n",
              "   ('tdipg', 0.07142857142857142),\n",
              "   ('jmsa_b', 0.10666666666666667),\n",
              "   ('jhunc_c', 0.14423076923076922),\n",
              "   ('rfsp_b', 0.14606741573033707),\n",
              "   ('xwuc_b', 0.09210526315789473),\n",
              "   ('ksmit', 0.0684931506849315),\n",
              "   ('rfsp_a', 0.12195121951219512),\n",
              "   ('mcsmd', 0.08571428571428572)]},\n",
              " -6: {'hit': [('SolTranNet', 0.9310344827586207),\n",
              "   ('hpsu_a', 0.5517241379310345),\n",
              "   ('jmsa_a', 0.9655172413793104),\n",
              "   ('mlkc_b', 0.896551724137931),\n",
              "   ('mlkc_c', 0.8793103448275862),\n",
              "   ('jhtny', 0.896551724137931),\n",
              "   ('jcsu_a', 0.8793103448275862),\n",
              "   ('umut_a', 0.8793103448275862),\n",
              "   ('astu', 0.7413793103448276),\n",
              "   ('xwuc_a', 0.896551724137931),\n",
              "   ('asll_c', 0.9827586206896551),\n",
              "   ('jmsa_c', 0.9655172413793104),\n",
              "   ('asll_a', 1.0),\n",
              "   ('jhunc_a', 0.9482758620689655),\n",
              "   ('sgurv', 0.7931034482758621),\n",
              "   ('pmsa_a', 0.7586206896551724),\n",
              "   ('jcsu_b', 0.9482758620689655),\n",
              "   ('asll_b', 0.9137931034482759),\n",
              "   ('pmsa_c', 0.7758620689655172),\n",
              "   ('ytacu', 0.7586206896551724),\n",
              "   ('yumpu_b', 0.7758620689655172),\n",
              "   ('nmupi', 0.8275862068965517),\n",
              "   ('jhunc_b', 1.0),\n",
              "   ('hpsu_b', 0.5517241379310345),\n",
              "   ('umut_b', 0.8793103448275862),\n",
              "   ('yumpu_a', 0.7931034482758621),\n",
              "   ('umut_c', 0.896551724137931),\n",
              "   ('flwmu', 0.9482758620689655),\n",
              "   ('mlkc_a', 0.8620689655172413),\n",
              "   ('pmsa_b', 0.7413793103448276),\n",
              "   ('tdipg', 0.8620689655172413),\n",
              "   ('jmsa_b', 0.8793103448275862),\n",
              "   ('jhunc_c', 0.9827586206896551),\n",
              "   ('rfsp_b', 0.9482758620689655),\n",
              "   ('xwuc_b', 0.896551724137931),\n",
              "   ('ksmit', 0.8620689655172413),\n",
              "   ('rfsp_a', 0.9137931034482759),\n",
              "   ('mcsmd', 0.896551724137931)],\n",
              "  'fail': [('SolTranNet', 0.0),\n",
              "   ('hpsu_a', 0.05263157894736842),\n",
              "   ('jmsa_a', 0.024390243902439025),\n",
              "   ('mlkc_b', 0.013888888888888888),\n",
              "   ('mlkc_c', 0.0),\n",
              "   ('jhtny', 0.02564102564102564),\n",
              "   ('jcsu_a', 0.0),\n",
              "   ('umut_a', 0.012987012987012988),\n",
              "   ('astu', 0.0),\n",
              "   ('xwuc_a', 0.012987012987012988),\n",
              "   ('asll_c', 0.043010752688172046),\n",
              "   ('jmsa_c', 0.023809523809523808),\n",
              "   ('asll_a', 0.07627118644067797),\n",
              "   ('jhunc_a', 0.014084507042253521),\n",
              "   ('sgurv', 0.0),\n",
              "   ('pmsa_a', 0.0),\n",
              "   ('jcsu_b', 0.023529411764705882),\n",
              "   ('asll_b', 0.06451612903225806),\n",
              "   ('pmsa_c', 0.0),\n",
              "   ('ytacu', 0.0),\n",
              "   ('yumpu_b', 0.0),\n",
              "   ('nmupi', 0.0898876404494382),\n",
              "   ('jhunc_b', 0.056074766355140186),\n",
              "   ('hpsu_b', 0.023809523809523808),\n",
              "   ('umut_b', 0.0),\n",
              "   ('yumpu_a', 0.0),\n",
              "   ('umut_c', 0.0),\n",
              "   ('flwmu', 0.06593406593406594),\n",
              "   ('mlkc_a', 0.013888888888888888),\n",
              "   ('pmsa_b', 0.0),\n",
              "   ('tdipg', 0.014285714285714285),\n",
              "   ('jmsa_b', 0.02666666666666667),\n",
              "   ('jhunc_c', 0.0),\n",
              "   ('rfsp_b', 0.033707865168539325),\n",
              "   ('xwuc_b', 0.013157894736842105),\n",
              "   ('ksmit', 0.0),\n",
              "   ('rfsp_a', 0.036585365853658534),\n",
              "   ('mcsmd', 0.0)]}}"
            ]
          },
          "metadata": {},
          "execution_count": 50
        }
      ],
      "source": [
        "data"
      ]
    },
    {
      "cell_type": "code",
      "execution_count": 51,
      "metadata": {
        "id": "fM0Kbub4p7BJ",
        "colab": {
          "base_uri": "https://localhost:8080/",
          "height": 1000
        },
        "outputId": "4ffe906f-c814-43b3-d90f-79ff1f483761"
      },
      "outputs": [
        {
          "output_type": "display_data",
          "data": {
            "text/plain": [
              "<Figure size 950x500 with 1 Axes>"
            ],
            "image/png": "[encoded data removed]"
          },
          "metadata": {}
        },
        {
          "output_type": "display_data",
          "data": {
            "text/plain": [
              "<Figure size 950x500 with 1 Axes>"
            ],
            "image/png": "[encoded data removed]"
          },
          "metadata": {}
        },
        {
          "output_type": "display_data",
          "data": {
            "text/plain": [
              "<Figure size 950x500 with 1 Axes>"
            ],
            "image/png": "[encoded data removed]"
          },
          "metadata": {}
        },
        {
          "output_type": "display_data",
          "data": {
            "text/plain": [
              "<Figure size 950x500 with 1 Axes>"
            ],
            "image/png": "[encoded data removed]"
          },
          "metadata": {}
        }
      ],
      "source": [
        "plotted_sens=False\n",
        "for ins in data:\n",
        "    for k in data[ins]:\n",
        "        if k=='hit':\n",
        "            if plotted_sens:\n",
        "                continue\n",
        "            fig=plt.figure(figsize=(9.5,5))\n",
        "            all_data=sorted(data[ins][k],key=lambda x:x[1],reverse=True)\n",
        "            plt.ylabel('Sensitivity')\n",
        "        else:\n",
        "            fig=plt.figure(figsize=(9.5,5))\n",
        "            all_data=sorted(data[ins][k],key=lambda x:x[1])\n",
        "            plt.ylabel(f'False Discovery Rate: Insoluble <= {ins}')\n",
        "            plt.ylim((0,0.55))\n",
        "\n",
        "        labels=[x[0] for x in all_data]\n",
        "        ys=[x[1] for x in all_data]\n",
        "        x_pos=[i for i,_ in enumerate(all_data)]\n",
        "        colors=['purple' if x[0]=='SolTranNet' else 'green' for x in all_data]\n",
        "        plt.bar(x_pos,ys,color=colors)\n",
        "        plt.xlabel('Group')\n",
        "        plt.xticks(x_pos,labels,rotation='vertical')\n",
        "        filename = f'/content/drive/MyDrive/Ersilia/SensitivityPlot_{ins}Ersilia.png'\n",
        "        plt.savefig(filename)\n",
        "        plotted_sens=True"
      ]
    },
    {
      "cell_type": "markdown",
      "metadata": {
        "id": "9pHF4H4nqdDb"
      },
      "source": [
        "The false discovery rate is calculated with \"insoluble\" defined as LogS values less than or equal to -5, with Soltrannet represented in purple.\n",
        "\n",
        "The false discovery rate is also computed with \"insoluble\" defined as LogS values less than or equal to -6, and Soltrannet is once again highlighted in purple.\n",
        "\n",
        "\n",
        "\n",
        "\n",
        "\n",
        "\n"
      ]
    },
    {
      "cell_type": "markdown",
      "metadata": {
        "id": "eKURwdOoque6"
      },
      "source": [
        "# The evaluation of the Soltrannet model's performance in classifying compounds as soluble or insoluble.\n",
        "\n",
        "\n",
        "\n",
        "\n",
        "\n",
        "\n"
      ]
    },
    {
      "cell_type": "markdown",
      "metadata": {
        "id": "D1P1TZlQq47f"
      },
      "source": [
        "Upon analyzing the performance of the Soltrannet model in classifying compounds as soluble or insoluble, a noteworthy insight emerged from the evaluation of false discovery rates at different thresholds. Compounds were defined as soluble if their logarithm of solubility exceeded -4. Two charts were generated, one for a false discovery rate at -5 and another at -6, revealing false positive predictions made by the model among compounds predicted to be soluble but were actually insoluble.\n",
        "\n",
        "Interestingly, it was observed that as the threshold for soluble compounds became less strict (i.e., -5 or -6 instead of -4), the false discovery rate decreased. This trend indicates that Soltrannet is more effective at accurately screening out insoluble compounds, especially when the classification threshold is less stringent.\n",
        "\n",
        "The insight drawn from this analysis paints a compelling narrative. The Soltrannet model demonstrates improved efficacy in discerning true solubility when a more lenient threshold is applied. This finding suggests that the model's predictive accuracy is particularly robust when dealing with less rigid classification criteria.\n",
        "\n",
        "Moreover, the reproducibility of the eos6oli model, as evidenced by generating identical charts with matching values and counts compared to the Soltrannet model using the same dataset from the publications, further bolsters the model's credibility. This consistency underscores the reliability and replicability of the eos6oli model's performance, adding a layer of confidence to its predictive capabilities.\n",
        "\n",
        "\n",
        "\n",
        "\n",
        "\n",
        "\n",
        "\n"
      ]
    },
    {
      "cell_type": "code",
      "execution_count": null,
      "metadata": {
        "id": "DIRInC6Hr-C6"
      },
      "outputs": [],
      "source": []
    }
  ],
  "metadata": {
    "colab": {
      "provenance": []
    },
    "kernelspec": {
      "display_name": "Python 3",
      "name": "python3"
    },
    "language_info": {
      "name": "python"
    }
  },
  "nbformat": 4,
  "nbformat_minor": 0
}