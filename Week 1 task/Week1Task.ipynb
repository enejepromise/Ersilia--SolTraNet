{
  "nbformat": 4,
  "nbformat_minor": 0,
  "metadata": {
    "colab": {
      "provenance": [],
      "toc_visible": true
    },
    "kernelspec": {
      "name": "python3",
      "display_name": "Python 3"
    },
    "language_info": {
      "name": "python"
    }
  },
  "cells": [
    {
      "cell_type": "markdown",
      "source": [
        "## week 1 task\n",
        "# contributor Eneje Ndidiamaka Promise\n"
      ],
      "metadata": {
        "id": "OhieI-9nwuC-"
      }
    },
    {
      "cell_type": "markdown",
      "source": [
        "Installing necessary libraries"
      ],
      "metadata": {
        "id": "5Dl9QrVI3uqE"
      }
    },
    {
      "cell_type": "code",
      "execution_count": null,
      "metadata": {
        "id": "IFxF8oAvuIL1"
      },
      "outputs": [],
      "source": [
        "%%capture\n",
        "%env MINICONDA_INSTALLER_SCRIPT=Miniconda3-py37_4.12.0-Linux-x86_64.sh\n",
        "%env MINICONDA_PREFIX=/usr/local\n",
        "%env PYTHONPATH= \"$PYTHONPATH:/usr/local/lib/python3.7/site-packages\"\n",
        "%env PIP_ROOT_USER_ACTION=ignore\n",
        "\n",
        "!wget https://repo.anaconda.com/miniconda/$MINICONDA_INSTALLER_SCRIPT\n",
        "!chmod +x $MINICONDA_INSTALLER_SCRIPT\n",
        "!./$MINICONDA_INSTALLER_SCRIPT -b -f -p $MINICONDA_PREFIX\n",
        "\n",
        "!python -m pip install git+https://github.com/ersilia-os/ersilia.git\n",
        "!python -m pip install requests --upgrade\n",
        "import sys\n",
        "\n",
        "_ = sys.path.append(\"/usr/local/lib/python3.7/site-packages\")"
      ]
    },
    {
      "cell_type": "markdown",
      "source": [
        "## title 🔗 Connect Colab to Google Drive and To Mount google drive"
      ],
      "metadata": {
        "id": "BshJEvqc5y8N"
      }
    },
    {
      "cell_type": "code",
      "source": [
        "from google.colab import drive\n",
        "\n",
        "drive.mount(\"/content/drive\")"
      ],
      "metadata": {
        "colab": {
          "base_uri": "https://localhost:8080/"
        },
        "id": "acx7-IR26OAF",
        "outputId": "4490239d-0e09-4c68-b73a-0a4a5cb740d4"
      },
      "execution_count": null,
      "outputs": [
        {
          "output_type": "stream",
          "name": "stdout",
          "text": [
            "Mounted at /content/drive\n"
          ]
        }
      ]
    },
    {
      "cell_type": "markdown",
      "source": [
        "## Creating a path for the folder"
      ],
      "metadata": {
        "id": "Wyb_DAuR6hFP"
      }
    },
    {
      "cell_type": "code",
      "source": [
        "input_folder = \"/content/drive/MyDrive/Ersilia\"  # @param {type:\"string\"}"
      ],
      "metadata": {
        "id": "NVo1fKF07CY-"
      },
      "execution_count": null,
      "outputs": []
    },
    {
      "cell_type": "code",
      "source": [
        "# specify your output folder\n",
        "\n",
        "output_folder = \"/content/drive/MyDrive/Ersilia\"  # @param {type:\"string\"}"
      ],
      "metadata": {
        "id": "aaP0BoXc7d_o"
      },
      "execution_count": null,
      "outputs": []
    },
    {
      "cell_type": "code",
      "source": [
        "# specify the name of your input csv file\n",
        "\n",
        "input_filename = \"reference_library\"  # @param {type:\"string\"}"
      ],
      "metadata": {
        "id": "uldvUbI97gdo"
      },
      "execution_count": null,
      "outputs": []
    },
    {
      "cell_type": "code",
      "source": [
        "# specify the SMILES column name\n",
        "smiles_column = \"smiles\"  # @param {type:\"string\"}"
      ],
      "metadata": {
        "id": "ECKsnPI97-Gk"
      },
      "execution_count": null,
      "outputs": []
    },
    {
      "cell_type": "code",
      "source": [
        "path = input_folder + input_filename"
      ],
      "metadata": {
        "id": "T7k8zckm9_I-"
      },
      "execution_count": null,
      "outputs": []
    },
    {
      "cell_type": "markdown",
      "source": [
        "## Extract SMILES to a list"
      ],
      "metadata": {
        "id": "jfhYQcQV8RVs"
      }
    },
    {
      "cell_type": "code",
      "source": [
        "# @title 🔤 Extract SMILES to a list\n",
        "import pandas as pd\n",
        "\n",
        "path = \"%s/%s.csv\" % (input_folder, input_filename)\n",
        "smi_col = \"%s\" % smiles_column\n",
        "df = pd.read_csv(path)\n",
        "smiles = df[smi_col].tolist()\n",
        "\n",
        "print(\"My dataset contains\" + \" \" + str(len(smiles)) + \" \" + \"SMILES\")"
      ],
      "metadata": {
        "colab": {
          "base_uri": "https://localhost:8080/"
        },
        "id": "yZrjLJHZ8Yzu",
        "outputId": "4ed1f484-d214-4339-a6be-8e1d60999649"
      },
      "execution_count": null,
      "outputs": [
        {
          "output_type": "stream",
          "name": "stdout",
          "text": [
            "My dataset contains 1000 SMILES\n"
          ]
        }
      ]
    },
    {
      "cell_type": "code",
      "source": [
        " # Enter the model name\n",
        "# This is just an example, make sure to adapt it to your specific model\n",
        "\n",
        "model_name = \"eos6oli\"  # @param {type:\"string\"}"
      ],
      "metadata": {
        "id": "wORrKQnA8UpF"
      },
      "execution_count": null,
      "outputs": []
    },
    {
      "cell_type": "markdown",
      "source": [
        "## Fetch the Model"
      ],
      "metadata": {
        "id": "nSe1xiuLEPG-"
      }
    },
    {
      "cell_type": "code",
      "source": [
        "# @title 📥 Fetch the model\n",
        "import time\n",
        "\n",
        "begin = time.time()\n",
        "!ersilia fetch $model_name\n",
        "end = time.time()\n",
        "\n",
        "print(\"Time taken:\", round((end - begin), 2), \"seconds\")"
      ],
      "metadata": {
        "colab": {
          "base_uri": "https://localhost:8080/"
        },
        "id": "_rngH8FTEeJ1",
        "outputId": "7d4eb309-cdb0-42e4-c750-81fc3a229dd9"
      },
      "execution_count": null,
      "outputs": [
        {
          "output_type": "stream",
          "name": "stdout",
          "text": [
            "\u001b[34m⬇️  Fetching model eos6oli: soltrannet-aqueous-solubility\u001b[0m\n",
            "sudo: unknown user udockerusername\r\n",
            "sudo: error initializing audit plugin sudoers_audit\r\n",
            "  Running command git clone -q https://github.com/ersilia-os/bentoml-ersilia.git /tmp/pip-req-build-9lrwntxo\n",
            "\u001b[33mWARNING: Running pip as the 'root' user can result in broken permissions and conflicting behaviour with the system package manager. It is recommended to use a virtual environment instead: https://pip.pypa.io/warnings/venv\u001b[0m\n",
            "Collecting package metadata (current_repodata.json): - \b\b\\ \b\b| \b\b/ \b\b- \b\b\\ \b\b| \b\b/ \b\b- \b\b\\ \b\b| \b\b/ \b\b- \b\b\\ \b\b| \b\b/ \b\b- \b\b\\ \b\b| \b\b/ \b\b- \b\b\\ \b\b| \b\b/ \b\b- \b\b\\ \b\b| \b\b/ \b\b- \b\b\\ \b\b| \b\b/ \b\b- \b\b\\ \b\b| \b\b/ \b\b- \b\b\\ \b\b| \b\b/ \b\b- \b\b\\ \b\b| \b\b/ \b\b- \b\bdone\n",
            "Solving environment: | \b\bfailed with repodata from current_repodata.json, will retry with next repodata source.\n",
            "Collecting package metadata (repodata.json): - \b\b\\ \b\b| \b\b/ \b\b- \b\b\\ \b\b| \b\b/ \b\b- \b\b\\ \b\b| \b\b/ \b\bdone\n",
            "Solving environment: \\ \b\b| \b\b/ \b\b- \b\b\\ \b\b| \b\b/ \b\b- \b\b\\ \b\b| \b\b/ \b\b- \b\bdone\n",
            "\n",
            "\n",
            "==> WARNING: A newer version of conda exists. <==\n",
            "  current version: 4.12.0\n",
            "  latest version: 24.1.2\n",
            "\n",
            "Please update conda by running\n",
            "\n",
            "    $ conda update -n base -c defaults conda\n",
            "\n",
            "\n",
            "\n",
            "## Package Plan ##\n",
            "\n",
            "  environment location: /usr/local/envs/eosbase-bentoml-0.11.0-py37\n",
            "\n",
            "  added / updated specs:\n",
            "    - python=3.7\n",
            "\n",
            "\n",
            "The following packages will be downloaded:\n",
            "\n",
            "    package                    |            build\n",
            "    ---------------------------|-----------------\n",
            "    _openmp_mutex-5.1          |            1_gnu          21 KB\n",
            "    ca-certificates-2023.12.12 |       h06a4308_0         126 KB\n",
            "    certifi-2022.12.7          |   py37h06a4308_0         150 KB\n",
            "    ld_impl_linux-64-2.38      |       h1181459_1         654 KB\n",
            "    libffi-3.4.4               |       h6a678d5_0         142 KB\n",
            "    libgcc-ng-11.2.0           |       h1234567_1         5.3 MB\n",
            "    libgomp-11.2.0             |       h1234567_1         474 KB\n",
            "    libstdcxx-ng-11.2.0        |       h1234567_1         4.7 MB\n",
            "    ncurses-6.4                |       h6a678d5_0         914 KB\n",
            "    openssl-1.1.1w             |       h7f8727e_0         3.7 MB\n",
            "    pip-22.3.1                 |   py37h06a4308_0         2.7 MB\n",
            "    python-3.7.16              |       h7a1cb2a_0        44.8 MB\n",
            "    readline-8.2               |       h5eee18b_0         357 KB\n",
            "    setuptools-65.6.3          |   py37h06a4308_0         1.1 MB\n",
            "    sqlite-3.41.2              |       h5eee18b_0         1.2 MB\n",
            "    tk-8.6.12                  |       h1ccaba5_0         3.0 MB\n",
            "    wheel-0.38.4               |   py37h06a4308_0          63 KB\n",
            "    xz-5.4.6                   |       h5eee18b_0         651 KB\n",
            "    zlib-1.2.13                |       h5eee18b_0         103 KB\n",
            "    ------------------------------------------------------------\n",
            "                                           Total:        70.2 MB\n",
            "\n",
            "The following NEW packages will be INSTALLED:\n",
            "\n",
            "  _libgcc_mutex      pkgs/main/linux-64::_libgcc_mutex-0.1-main\n",
            "  _openmp_mutex      pkgs/main/linux-64::_openmp_mutex-5.1-1_gnu\n",
            "  ca-certificates    pkgs/main/linux-64::ca-certificates-2023.12.12-h06a4308_0\n",
            "  certifi            pkgs/main/linux-64::certifi-2022.12.7-py37h06a4308_0\n",
            "  ld_impl_linux-64   pkgs/main/linux-64::ld_impl_linux-64-2.38-h1181459_1\n",
            "  libffi             pkgs/main/linux-64::libffi-3.4.4-h6a678d5_0\n",
            "  libgcc-ng          pkgs/main/linux-64::libgcc-ng-11.2.0-h1234567_1\n",
            "  libgomp            pkgs/main/linux-64::libgomp-11.2.0-h1234567_1\n",
            "  libstdcxx-ng       pkgs/main/linux-64::libstdcxx-ng-11.2.0-h1234567_1\n",
            "  ncurses            pkgs/main/linux-64::ncurses-6.4-h6a678d5_0\n",
            "  openssl            pkgs/main/linux-64::openssl-1.1.1w-h7f8727e_0\n",
            "  pip                pkgs/main/linux-64::pip-22.3.1-py37h06a4308_0\n",
            "  python             pkgs/main/linux-64::python-3.7.16-h7a1cb2a_0\n",
            "  readline           pkgs/main/linux-64::readline-8.2-h5eee18b_0\n",
            "  setuptools         pkgs/main/linux-64::setuptools-65.6.3-py37h06a4308_0\n",
            "  sqlite             pkgs/main/linux-64::sqlite-3.41.2-h5eee18b_0\n",
            "  tk                 pkgs/main/linux-64::tk-8.6.12-h1ccaba5_0\n",
            "  wheel              pkgs/main/linux-64::wheel-0.38.4-py37h06a4308_0\n",
            "  xz                 pkgs/main/linux-64::xz-5.4.6-h5eee18b_0\n",
            "  zlib               pkgs/main/linux-64::zlib-1.2.13-h5eee18b_0\n",
            "\n",
            "\n",
            "\n",
            "Downloading and Extracting Packages\n",
            "openssl-1.1.1w       | 3.7 MB    | : 100% 1.0/1 [00:00<00:00,  2.73it/s]\n",
            "ld_impl_linux-64-2.3 | 654 KB    | : 100% 1.0/1 [00:00<00:00,  5.24it/s]\n",
            "libstdcxx-ng-11.2.0  | 4.7 MB    | : 100% 1.0/1 [00:00<00:00,  3.14it/s]\n",
            "ca-certificates-2023 | 126 KB    | : 100% 1.0/1 [00:00<00:00,  5.53it/s]\n",
            "certifi-2022.12.7    | 150 KB    | : 100% 1.0/1 [00:00<00:00,  5.33it/s]\n",
            "readline-8.2         | 357 KB    | : 100% 1.0/1 [00:00<00:00,  4.83it/s]\n",
            "xz-5.4.6             | 651 KB    | : 100% 1.0/1 [00:00<00:00,  4.13it/s]\n",
            "zlib-1.2.13          | 103 KB    | : 100% 1.0/1 [00:00<00:00,  5.53it/s]\n",
            "pip-22.3.1           | 2.7 MB    | : 100% 1.0/1 [00:00<00:00,  2.65it/s]\n",
            "sqlite-3.41.2        | 1.2 MB    | : 100% 1.0/1 [00:00<00:00,  4.86it/s]\n",
            "libffi-3.4.4         | 142 KB    | : 100% 1.0/1 [00:00<00:00,  5.03it/s]\n",
            "ncurses-6.4          | 914 KB    | : 100% 1.0/1 [00:00<00:00,  1.74it/s]\n",
            "wheel-0.38.4         | 63 KB     | : 100% 1.0/1 [00:00<00:00,  5.03it/s]\n",
            "_openmp_mutex-5.1    | 21 KB     | : 100% 1.0/1 [00:00<00:00,  4.90it/s]\n",
            "libgomp-11.2.0       | 474 KB    | : 100% 1.0/1 [00:00<00:00,  4.13it/s]\n",
            "setuptools-65.6.3    | 1.1 MB    | : 100% 1.0/1 [00:00<00:00,  2.50it/s]\n",
            "python-3.7.16        | 44.8 MB   | : 100% 1.0/1 [00:02<00:00,  2.55s/it]               \n",
            "libgcc-ng-11.2.0     | 5.3 MB    | : 100% 1.0/1 [00:00<00:00,  1.63it/s]               \n",
            "tk-8.6.12            | 3.0 MB    | : 100% 1.0/1 [00:00<00:00,  1.89it/s]\n",
            "Preparing transaction: | \b\b/ \b\b- \b\b\\ \b\b| \b\bdone\n",
            "Verifying transaction: - \b\b\\ \b\b| \b\b/ \b\b- \b\b\\ \b\b| \b\b/ \b\b- \b\b\\ \b\b| \b\b/ \b\b- \b\bdone\n",
            "Executing transaction: | \b\b/ \b\b- \b\b\\ \b\b| \b\b/ \b\b- \b\b\\ \b\b| \b\b/ \b\b- \b\bdone\n",
            "#\n",
            "# To activate this environment, use\n",
            "#\n",
            "#     $ conda activate eosbase-bentoml-0.11.0-py37\n",
            "#\n",
            "# To deactivate an active environment, use\n",
            "#\n",
            "#     $ conda deactivate\n",
            "\n",
            "Collecting git+https://github.com/ersilia-os/bentoml-ersilia.git\n",
            "  Cloning https://github.com/ersilia-os/bentoml-ersilia.git to /tmp/pip-req-build-ieqpk53g\n",
            "  Running command git clone --filter=blob:none --quiet https://github.com/ersilia-os/bentoml-ersilia.git /tmp/pip-req-build-ieqpk53g\n",
            "  Resolved https://github.com/ersilia-os/bentoml-ersilia.git to commit 34a26149d92b5dc4a09b6f51aaaa85b3d8116ae4\n",
            "  Installing build dependencies ... \u001b[?25l\u001b[?25hdone\n",
            "  Getting requirements to build wheel ... \u001b[?25l\u001b[?25hdone\n",
            "  Preparing metadata (pyproject.toml) ... \u001b[?25l\u001b[?25hdone\n",
            "Collecting multidict\n",
            "  Using cached multidict-6.0.5-cp37-cp37m-manylinux_2_17_x86_64.manylinux2014_x86_64.whl (99 kB)\n",
            "Collecting prometheus-client\n",
            "  Using cached prometheus_client-0.17.1-py3-none-any.whl (60 kB)\n",
            "Collecting flask\n",
            "  Using cached Flask-2.2.5-py3-none-any.whl (101 kB)\n",
            "Collecting boto3\n",
            "  Using cached boto3-1.33.13-py3-none-any.whl (139 kB)\n",
            "Collecting alembic\n",
            "  Using cached alembic-1.12.1-py3-none-any.whl (226 kB)\n",
            "Collecting tabulate\n",
            "  Using cached tabulate-0.9.0-py3-none-any.whl (35 kB)\n",
            "Collecting python-json-logger\n",
            "  Using cached python_json_logger-2.0.7-py3-none-any.whl (8.1 kB)\n",
            "Collecting ruamel.yaml\n",
            "  Using cached ruamel.yaml-0.18.6-py3-none-any.whl (117 kB)\n",
            "Collecting psutil\n",
            "  Using cached psutil-5.9.8-cp36-abi3-manylinux_2_12_x86_64.manylinux2010_x86_64.manylinux_2_17_x86_64.manylinux2014_x86_64.whl (288 kB)\n",
            "Collecting werkzeug\n",
            "  Using cached Werkzeug-2.2.3-py3-none-any.whl (233 kB)\n",
            "Collecting packaging\n",
            "  Using cached packaging-24.0-py3-none-any.whl (53 kB)\n",
            "Collecting numpy\n",
            "  Using cached numpy-1.21.6-cp37-cp37m-manylinux_2_12_x86_64.manylinux2010_x86_64.whl (15.7 MB)\n",
            "Collecting sqlalchemy\n",
            "  Using cached SQLAlchemy-2.0.28-cp37-cp37m-manylinux_2_17_x86_64.manylinux2014_x86_64.whl (3.0 MB)\n",
            "Collecting protobuf<3.19,>=3.8.0\n",
            "  Using cached protobuf-3.18.3-cp37-cp37m-manylinux_2_17_x86_64.manylinux2014_x86_64.whl (1.1 MB)\n",
            "Collecting requests\n",
            "  Using cached requests-2.31.0-py3-none-any.whl (62 kB)\n",
            "Collecting sqlalchemy-utils\n",
            "  Using cached SQLAlchemy_Utils-0.41.1-py3-none-any.whl (92 kB)\n",
            "Collecting chardet\n",
            "  Using cached chardet-5.2.0-py3-none-any.whl (199 kB)\n",
            "Collecting humanfriendly\n",
            "  Using cached humanfriendly-10.0-py2.py3-none-any.whl (86 kB)\n",
            "Collecting cerberus\n",
            "  Using cached Cerberus-1.3.5-py3-none-any.whl (30 kB)\n",
            "Collecting docker\n",
            "  Using cached docker-6.1.3-py3-none-any.whl (148 kB)\n",
            "Collecting typing-extensions>=4\n",
            "  Using cached typing_extensions-4.7.1-py3-none-any.whl (33 kB)\n",
            "Collecting Mako\n",
            "  Using cached Mako-1.2.4-py3-none-any.whl (78 kB)\n",
            "Collecting importlib-metadata\n",
            "  Using cached importlib_metadata-6.7.0-py3-none-any.whl (22 kB)\n",
            "Collecting importlib-resources\n",
            "  Using cached importlib_resources-5.12.0-py3-none-any.whl (36 kB)\n",
            "Collecting greenlet!=0.4.17\n",
            "  Using cached greenlet-3.0.3-cp37-cp37m-manylinux_2_24_x86_64.manylinux_2_28_x86_64.whl (574 kB)\n",
            "Collecting s3transfer<0.9.0,>=0.8.2\n",
            "  Using cached s3transfer-0.8.2-py3-none-any.whl (82 kB)\n",
            "Collecting jmespath<2.0.0,>=0.7.1\n",
            "  Using cached jmespath-1.0.1-py3-none-any.whl (20 kB)\n",
            "Collecting botocore<1.34.0,>=1.33.13\n",
            "  Using cached botocore-1.33.13-py3-none-any.whl (11.8 MB)\n",
            "Collecting urllib3>=1.26.0\n",
            "  Downloading urllib3-2.0.7-py3-none-any.whl (124 kB)\n",
            "\u001b[2K     \u001b[90m━━━━━━━━━━━━━━━━━━━━━━━━━━━━━━━━━━━━━━━━\u001b[0m \u001b[32m124.2/124.2 kB\u001b[0m \u001b[31m3.7 MB/s\u001b[0m eta \u001b[36m0:00:00\u001b[0m\n",
            "\u001b[?25hCollecting websocket-client>=0.32.0\n",
            "  Using cached websocket_client-1.6.1-py3-none-any.whl (56 kB)\n",
            "Collecting charset-normalizer<4,>=2\n",
            "  Downloading charset_normalizer-3.3.2-cp37-cp37m-manylinux_2_17_x86_64.manylinux2014_x86_64.whl (136 kB)\n",
            "\u001b[2K     \u001b[90m━━━━━━━━━━━━━━━━━━━━━━━━━━━━━━━━━━━━━━━━\u001b[0m \u001b[32m136.8/136.8 kB\u001b[0m \u001b[31m1.7 MB/s\u001b[0m eta \u001b[36m0:00:00\u001b[0m\n",
            "\u001b[?25hCollecting idna<4,>=2.5\n",
            "  Downloading idna-3.6-py3-none-any.whl (61 kB)\n",
            "\u001b[2K     \u001b[90m━━━━━━━━━━━━━━━━━━━━━━━━━━━━━━━━━━━━━━━━\u001b[0m \u001b[32m61.6/61.6 kB\u001b[0m \u001b[31m6.6 MB/s\u001b[0m eta \u001b[36m0:00:00\u001b[0m\n",
            "\u001b[?25hRequirement already satisfied: certifi>=2017.4.17 in /usr/local/envs/eosbase-bentoml-0.11.0-py37/lib/python3.7/site-packages (from requests->bentoml==0.11.0) (2022.12.7)\n",
            "Collecting Jinja2>=3.0\n",
            "  Using cached Jinja2-3.1.3-py3-none-any.whl (133 kB)\n",
            "Collecting itsdangerous>=2.0\n",
            "  Using cached itsdangerous-2.1.2-py3-none-any.whl (15 kB)\n",
            "Collecting click>=8.0\n",
            "  Using cached click-8.1.7-py3-none-any.whl (97 kB)\n",
            "Collecting MarkupSafe>=2.1.1\n",
            "  Using cached MarkupSafe-2.1.5-cp37-cp37m-manylinux_2_17_x86_64.manylinux2014_x86_64.whl (25 kB)\n",
            "Collecting ruamel.yaml.clib>=0.2.7\n",
            "  Using cached ruamel.yaml.clib-0.2.8-cp37-cp37m-manylinux_2_5_x86_64.manylinux1_x86_64.whl (551 kB)\n",
            "Collecting python-dateutil<3.0.0,>=2.1\n",
            "  Using cached python_dateutil-2.9.0.post0-py2.py3-none-any.whl (229 kB)\n",
            "Collecting urllib3>=1.26.0\n",
            "  Downloading urllib3-1.26.18-py2.py3-none-any.whl (143 kB)\n",
            "\u001b[2K     \u001b[90m━━━━━━━━━━━━━━━━━━━━━━━━━━━━━━━━━━━━━━━━\u001b[0m \u001b[32m143.8/143.8 kB\u001b[0m \u001b[31m10.6 MB/s\u001b[0m eta \u001b[36m0:00:00\u001b[0m\n",
            "\u001b[?25hCollecting zipp>=0.5\n",
            "  Using cached zipp-3.15.0-py3-none-any.whl (6.8 kB)\n",
            "Collecting six>=1.5\n",
            "  Downloading six-1.16.0-py2.py3-none-any.whl (11 kB)\n",
            "Building wheels for collected packages: bentoml\n",
            "  Building wheel for bentoml (pyproject.toml) ... \u001b[?25l\u001b[?25hdone\n",
            "  Created wheel for bentoml: filename=bentoml-0.11.0-py3-none-any.whl size=665276 sha256=98998b440f680569cdf1683ed6a90d378d6a3666384159d9268231f63d964c5a\n",
            "  Stored in directory: /tmp/pip-ephem-wheel-cache-7j8x_tho/wheels/c5/ae/16/6ea4097c679d2e7a3a991c633003ec5b4e1c42a0a309fa2d9d\n",
            "Successfully built bentoml\n",
            "Installing collected packages: zipp, websocket-client, urllib3, typing-extensions, tabulate, six, ruamel.yaml.clib, python-json-logger, psutil, protobuf, prometheus-client, packaging, numpy, multidict, MarkupSafe, jmespath, itsdangerous, idna, humanfriendly, greenlet, charset-normalizer, chardet, werkzeug, ruamel.yaml, requests, python-dateutil, Jinja2, importlib-resources, importlib-metadata, sqlalchemy, Mako, docker, click, cerberus, botocore, sqlalchemy-utils, s3transfer, flask, alembic, boto3, bentoml\n",
            "Successfully installed Jinja2-3.1.3 Mako-1.2.4 MarkupSafe-2.1.5 alembic-1.12.1 bentoml-0.11.0 boto3-1.33.13 botocore-1.33.13 cerberus-1.3.5 chardet-5.2.0 charset-normalizer-3.3.2 click-8.1.7 docker-6.1.3 flask-2.2.5 greenlet-3.0.3 humanfriendly-10.0 idna-3.6 importlib-metadata-6.7.0 importlib-resources-5.12.0 itsdangerous-2.1.2 jmespath-1.0.1 multidict-6.0.5 numpy-1.21.6 packaging-24.0 prometheus-client-0.17.1 protobuf-3.18.3 psutil-5.9.8 python-dateutil-2.9.0.post0 python-json-logger-2.0.7 requests-2.31.0 ruamel.yaml-0.18.6 ruamel.yaml.clib-0.2.8 s3transfer-0.8.2 six-1.16.0 sqlalchemy-2.0.28 sqlalchemy-utils-0.41.1 tabulate-0.9.0 typing-extensions-4.7.1 urllib3-1.26.18 websocket-client-1.6.1 werkzeug-2.2.3 zipp-3.15.0\n",
            "Source:      /usr/local/envs/eosbase-bentoml-0.11.0-py37\n",
            "Destination: /usr/local/envs/eos6oli\n",
            "Packages: 20\n",
            "Files: 5888\n",
            "Preparing transaction: - \b\b\\ \b\b| \b\b/ \b\bdone\n",
            "Verifying transaction: \\ \b\b| \b\b/ \b\b- \b\b\\ \b\b| \b\b/ \b\b- \b\b\\ \b\b| \b\b/ \b\b- \b\b\\ \b\bdone\n",
            "Executing transaction: / \b\b- \b\b\\ \b\b| \b\b/ \b\b- \b\b\\ \b\b| \b\b/ \b\b- \b\b\\ \b\bdone\n",
            "#\n",
            "# To activate this environment, use\n",
            "#\n",
            "#     $ conda activate eos6oli\n",
            "#\n",
            "# To deactivate an active environment, use\n",
            "#\n",
            "#     $ conda deactivate\n",
            "\n",
            "# conda environments:\n",
            "#\n",
            "base                     /usr/local\n",
            "eos6oli               *  /usr/local/envs/eos6oli\n",
            "eosbase-bentoml-0.11.0-py37     /usr/local/envs/eosbase-bentoml-0.11.0-py37\n",
            "\n",
            "Collecting rdkit\n",
            "  Downloading rdkit-2023.3.2-cp37-cp37m-manylinux_2_17_x86_64.manylinux2014_x86_64.whl (29.5 MB)\n",
            "     ━━━━━━━━━━━━━━━━━━━━━━━━━━━━━━━━━━━━━━━━ 29.5/29.5 MB 17.3 MB/s eta 0:00:00\n",
            "Requirement already satisfied: numpy in /usr/local/envs/eos6oli/lib/python3.7/site-packages (from rdkit) (1.21.6)\n",
            "Collecting Pillow\n",
            "  Downloading Pillow-9.5.0-cp37-cp37m-manylinux_2_28_x86_64.whl (3.4 MB)\n",
            "     ━━━━━━━━━━━━━━━━━━━━━━━━━━━━━━━━━━━━━━━━ 3.4/3.4 MB 54.1 MB/s eta 0:00:00\n",
            "Installing collected packages: Pillow, rdkit\n",
            "Successfully installed Pillow-9.5.0 rdkit-2023.3.2\n",
            "Collecting soltrannet==1.0.0\n",
            "  Downloading soltrannet-1.0.0-py3-none-any.whl (41 kB)\n",
            "     ━━━━━━━━━━━━━━━━━━━━━━━━━━━━━━━━━━━━━━━━ 41.8/41.8 kB 2.1 MB/s eta 0:00:00\n",
            "Collecting torch>=1.7.0\n",
            "  Downloading torch-1.13.1-cp37-cp37m-manylinux1_x86_64.whl (887.5 MB)\n",
            "     ━━━━━━━━━━━━━━━━━━━━━━━━━━━━━━━━━━━━━━━━ 887.5/887.5 MB 689.2 kB/s eta 0:00:00\n",
            "Collecting pathlib>=1.0\n",
            "  Downloading pathlib-1.0.1-py3-none-any.whl (14 kB)\n",
            "Requirement already satisfied: typing-extensions in /usr/local/envs/eos6oli/lib/python3.7/site-packages (from torch>=1.7.0->soltrannet==1.0.0) (4.7.1)\n",
            "Collecting nvidia-cuda-nvrtc-cu11==11.7.99\n",
            "  Downloading nvidia_cuda_nvrtc_cu11-11.7.99-2-py3-none-manylinux1_x86_64.whl (21.0 MB)\n",
            "     ━━━━━━━━━━━━━━━━━━━━━━━━━━━━━━━━━━━━━━━━ 21.0/21.0 MB 37.8 MB/s eta 0:00:00\n",
            "Collecting nvidia-cublas-cu11==11.10.3.66\n",
            "  Downloading nvidia_cublas_cu11-11.10.3.66-py3-none-manylinux1_x86_64.whl (317.1 MB)\n",
            "     ━━━━━━━━━━━━━━━━━━━━━━━━━━━━━━━━━━━━━━━━ 317.1/317.1 MB 4.4 MB/s eta 0:00:00\n",
            "Collecting nvidia-cudnn-cu11==8.5.0.96\n",
            "  Downloading nvidia_cudnn_cu11-8.5.0.96-2-py3-none-manylinux1_x86_64.whl (557.1 MB)\n",
            "     ━━━━━━━━━━━━━━━━━━━━━━━━━━━━━━━━━━━━━━━━ 557.1/557.1 MB 1.1 MB/s eta 0:00:00\n",
            "Collecting nvidia-cuda-runtime-cu11==11.7.99\n",
            "  Downloading nvidia_cuda_runtime_cu11-11.7.99-py3-none-manylinux1_x86_64.whl (849 kB)\n",
            "     ━━━━━━━━━━━━━━━━━━━━━━━━━━━━━━━━━━━━━━━━ 849.3/849.3 kB 35.8 MB/s eta 0:00:00\n",
            "Requirement already satisfied: setuptools in /usr/local/envs/eos6oli/lib/python3.7/site-packages (from nvidia-cublas-cu11==11.10.3.66->torch>=1.7.0->soltrannet==1.0.0) (65.6.3)\n",
            "Requirement already satisfied: wheel in /usr/local/envs/eos6oli/lib/python3.7/site-packages (from nvidia-cublas-cu11==11.10.3.66->torch>=1.7.0->soltrannet==1.0.0) (0.38.4)\n",
            "Installing collected packages: pathlib, nvidia-cuda-runtime-cu11, nvidia-cuda-nvrtc-cu11, nvidia-cublas-cu11, nvidia-cudnn-cu11, torch, soltrannet\n",
            "Successfully installed nvidia-cublas-cu11-11.10.3.66 nvidia-cuda-nvrtc-cu11-11.7.99 nvidia-cuda-runtime-cu11-11.7.99 nvidia-cudnn-cu11-8.5.0.96 pathlib-1.0.1 soltrannet-1.0.0 torch-1.13.1\n",
            "Collecting git+https://github.com/ersilia-os/bentoml-ersilia.git\n",
            "  Cloning https://github.com/ersilia-os/bentoml-ersilia.git to /tmp/pip-req-build-0y2496mp\n",
            "  Running command git clone --filter=blob:none --quiet https://github.com/ersilia-os/bentoml-ersilia.git /tmp/pip-req-build-0y2496mp\n",
            "  Resolved https://github.com/ersilia-os/bentoml-ersilia.git to commit 34a26149d92b5dc4a09b6f51aaaa85b3d8116ae4\n",
            "  Installing build dependencies: started\n",
            "  Installing build dependencies: finished with status 'done'\n",
            "  Getting requirements to build wheel: started\n",
            "  Getting requirements to build wheel: finished with status 'done'\n",
            "  Preparing metadata (pyproject.toml): started\n",
            "  Preparing metadata (pyproject.toml): finished with status 'done'\n",
            "Requirement already satisfied: boto3 in /usr/local/envs/eos6oli/lib/python3.7/site-packages (from bentoml==0.11.0) (1.33.13)\n",
            "Requirement already satisfied: humanfriendly in /usr/local/envs/eos6oli/lib/python3.7/site-packages (from bentoml==0.11.0) (10.0)\n",
            "Requirement already satisfied: docker in /usr/local/envs/eos6oli/lib/python3.7/site-packages (from bentoml==0.11.0) (6.1.3)\n",
            "Requirement already satisfied: ruamel.yaml in /usr/local/envs/eos6oli/lib/python3.7/site-packages (from bentoml==0.11.0) (0.18.6)\n",
            "Requirement already satisfied: werkzeug in /usr/local/envs/eos6oli/lib/python3.7/site-packages (from bentoml==0.11.0) (2.2.3)\n",
            "Requirement already satisfied: numpy in /usr/local/envs/eos6oli/lib/python3.7/site-packages (from bentoml==0.11.0) (1.21.6)\n",
            "Requirement already satisfied: sqlalchemy-utils in /usr/local/envs/eos6oli/lib/python3.7/site-packages (from bentoml==0.11.0) (0.41.1)\n",
            "Requirement already satisfied: alembic in /usr/local/envs/eos6oli/lib/python3.7/site-packages (from bentoml==0.11.0) (1.12.1)\n",
            "Requirement already satisfied: tabulate in /usr/local/envs/eos6oli/lib/python3.7/site-packages (from bentoml==0.11.0) (0.9.0)\n",
            "Requirement already satisfied: python-json-logger in /usr/local/envs/eos6oli/lib/python3.7/site-packages (from bentoml==0.11.0) (2.0.7)\n",
            "Requirement already satisfied: chardet in /usr/local/envs/eos6oli/lib/python3.7/site-packages (from bentoml==0.11.0) (5.2.0)\n",
            "Requirement already satisfied: sqlalchemy in /usr/local/envs/eos6oli/lib/python3.7/site-packages (from bentoml==0.11.0) (2.0.28)\n",
            "Requirement already satisfied: prometheus-client in /usr/local/envs/eos6oli/lib/python3.7/site-packages (from bentoml==0.11.0) (0.17.1)\n",
            "Requirement already satisfied: flask in /usr/local/envs/eos6oli/lib/python3.7/site-packages (from bentoml==0.11.0) (2.2.5)\n",
            "Requirement already satisfied: psutil in /usr/local/envs/eos6oli/lib/python3.7/site-packages (from bentoml==0.11.0) (5.9.8)\n",
            "Requirement already satisfied: packaging in /usr/local/envs/eos6oli/lib/python3.7/site-packages (from bentoml==0.11.0) (24.0)\n",
            "Requirement already satisfied: requests in /usr/local/envs/eos6oli/lib/python3.7/site-packages (from bentoml==0.11.0) (2.31.0)\n",
            "Requirement already satisfied: cerberus in /usr/local/envs/eos6oli/lib/python3.7/site-packages (from bentoml==0.11.0) (1.3.5)\n",
            "Requirement already satisfied: multidict in /usr/local/envs/eos6oli/lib/python3.7/site-packages (from bentoml==0.11.0) (6.0.5)\n",
            "Requirement already satisfied: protobuf<3.19,>=3.8.0 in /usr/local/envs/eos6oli/lib/python3.7/site-packages (from bentoml==0.11.0) (3.18.3)\n",
            "Requirement already satisfied: importlib-resources in /usr/local/envs/eos6oli/lib/python3.7/site-packages (from alembic->bentoml==0.11.0) (5.12.0)\n",
            "Requirement already satisfied: Mako in /usr/local/envs/eos6oli/lib/python3.7/site-packages (from alembic->bentoml==0.11.0) (1.2.4)\n",
            "Requirement already satisfied: importlib-metadata in /usr/local/envs/eos6oli/lib/python3.7/site-packages (from alembic->bentoml==0.11.0) (6.7.0)\n",
            "Requirement already satisfied: typing-extensions>=4 in /usr/local/envs/eos6oli/lib/python3.7/site-packages (from alembic->bentoml==0.11.0) (4.7.1)\n",
            "Requirement already satisfied: greenlet!=0.4.17 in /usr/local/envs/eos6oli/lib/python3.7/site-packages (from sqlalchemy->bentoml==0.11.0) (3.0.3)\n",
            "Requirement already satisfied: botocore<1.34.0,>=1.33.13 in /usr/local/envs/eos6oli/lib/python3.7/site-packages (from boto3->bentoml==0.11.0) (1.33.13)\n",
            "Requirement already satisfied: s3transfer<0.9.0,>=0.8.2 in /usr/local/envs/eos6oli/lib/python3.7/site-packages (from boto3->bentoml==0.11.0) (0.8.2)\n",
            "Requirement already satisfied: jmespath<2.0.0,>=0.7.1 in /usr/local/envs/eos6oli/lib/python3.7/site-packages (from boto3->bentoml==0.11.0) (1.0.1)\n",
            "Requirement already satisfied: urllib3>=1.26.0 in /usr/local/envs/eos6oli/lib/python3.7/site-packages (from docker->bentoml==0.11.0) (1.26.18)\n",
            "Requirement already satisfied: websocket-client>=0.32.0 in /usr/local/envs/eos6oli/lib/python3.7/site-packages (from docker->bentoml==0.11.0) (1.6.1)\n",
            "Requirement already satisfied: charset-normalizer<4,>=2 in /usr/local/envs/eos6oli/lib/python3.7/site-packages (from requests->bentoml==0.11.0) (3.3.2)\n",
            "Requirement already satisfied: certifi>=2017.4.17 in /usr/local/envs/eos6oli/lib/python3.7/site-packages (from requests->bentoml==0.11.0) (2022.12.7)\n",
            "Requirement already satisfied: idna<4,>=2.5 in /usr/local/envs/eos6oli/lib/python3.7/site-packages (from requests->bentoml==0.11.0) (3.6)\n",
            "Requirement already satisfied: itsdangerous>=2.0 in /usr/local/envs/eos6oli/lib/python3.7/site-packages (from flask->bentoml==0.11.0) (2.1.2)\n",
            "Requirement already satisfied: Jinja2>=3.0 in /usr/local/envs/eos6oli/lib/python3.7/site-packages (from flask->bentoml==0.11.0) (3.1.3)\n",
            "Requirement already satisfied: click>=8.0 in /usr/local/envs/eos6oli/lib/python3.7/site-packages (from flask->bentoml==0.11.0) (8.1.7)\n",
            "Requirement already satisfied: MarkupSafe>=2.1.1 in /usr/local/envs/eos6oli/lib/python3.7/site-packages (from werkzeug->bentoml==0.11.0) (2.1.5)\n",
            "Requirement already satisfied: ruamel.yaml.clib>=0.2.7 in /usr/local/envs/eos6oli/lib/python3.7/site-packages (from ruamel.yaml->bentoml==0.11.0) (0.2.8)\n",
            "Requirement already satisfied: python-dateutil<3.0.0,>=2.1 in /usr/local/envs/eos6oli/lib/python3.7/site-packages (from botocore<1.34.0,>=1.33.13->boto3->bentoml==0.11.0) (2.9.0.post0)\n",
            "Requirement already satisfied: zipp>=0.5 in /usr/local/envs/eos6oli/lib/python3.7/site-packages (from importlib-metadata->alembic->bentoml==0.11.0) (3.15.0)\n",
            "Requirement already satisfied: six>=1.5 in /usr/local/envs/eos6oli/lib/python3.7/site-packages (from python-dateutil<3.0.0,>=2.1->botocore<1.34.0,>=1.33.13->boto3->bentoml==0.11.0) (1.16.0)\n",
            "# conda environments:\n",
            "#\n",
            "base                     /usr/local\n",
            "eos6oli               *  /usr/local/envs/eos6oli\n",
            "eosbase-bentoml-0.11.0-py37     /usr/local/envs/eosbase-bentoml-0.11.0-py37\n",
            "\n",
            "[2024-03-18 08:38:37,943] INFO - BentoService bundle 'eos6oli:20240318083837_0B5841' saved to: /root/bentoml/repository/eos6oli/20240318083837_0B5841\n",
            "# conda environments:\n",
            "#\n",
            "base                     /usr/local\n",
            "eos6oli               *  /usr/local/envs/eos6oli\n",
            "eosbase-bentoml-0.11.0-py37     /usr/local/envs/eosbase-bentoml-0.11.0-py37\n",
            "\n",
            "[]\n",
            "Collecting rdkit-pypi\n",
            "  Downloading rdkit_pypi-2022.9.5-cp37-cp37m-manylinux_2_17_x86_64.manylinux2014_x86_64.whl (29.2 MB)\n",
            "\u001b[K     |████████████████████████████████| 29.2 MB 1.5 MB/s \n",
            "\u001b[?25hCollecting Pillow\n",
            "  Using cached Pillow-9.5.0-cp37-cp37m-manylinux_2_28_x86_64.whl (3.4 MB)\n",
            "Requirement already satisfied: numpy in /usr/local/lib/python3.7/site-packages (from rdkit-pypi) (1.21.6)\n",
            "Installing collected packages: Pillow, rdkit-pypi\n",
            "Successfully installed Pillow-9.5.0 rdkit-pypi-2022.9.5\n",
            "\u001b[33mWARNING: Running pip as the 'root' user can result in broken permissions and conflicting behaviour with the system package manager. It is recommended to use a virtual environment instead: https://pip.pypa.io/warnings/venv\u001b[0m\n",
            "Collecting chembl_webresource_client\n",
            "  Downloading chembl_webresource_client-0.10.9-py3-none-any.whl (55 kB)\n",
            "\u001b[K     |████████████████████████████████| 55 kB 2.0 MB/s \n",
            "\u001b[?25h  Downloading chembl_webresource_client-0.10.8-py3-none-any.whl (55 kB)\n",
            "\u001b[K     |████████████████████████████████| 55 kB 2.7 MB/s \n",
            "\u001b[?25hCollecting requests-cache~=0.7.0\n",
            "  Downloading requests_cache-0.7.5-py3-none-any.whl (39 kB)\n",
            "Requirement already satisfied: requests>=2.18.4 in /usr/local/lib/python3.7/site-packages (from chembl_webresource_client) (2.31.0)\n",
            "Requirement already satisfied: urllib3 in /usr/local/lib/python3.7/site-packages (from chembl_webresource_client) (1.26.8)\n",
            "Collecting easydict\n",
            "  Downloading easydict-1.13-py3-none-any.whl (6.8 kB)\n",
            "Requirement already satisfied: certifi>=2017.4.17 in /usr/local/lib/python3.7/site-packages (from requests>=2.18.4->chembl_webresource_client) (2021.10.8)\n",
            "Requirement already satisfied: charset-normalizer<4,>=2 in /usr/local/lib/python3.7/site-packages (from requests>=2.18.4->chembl_webresource_client) (2.0.4)\n",
            "Requirement already satisfied: idna<4,>=2.5 in /usr/local/lib/python3.7/site-packages (from requests>=2.18.4->chembl_webresource_client) (3.3)\n",
            "Collecting attrs<22.0,>=21.2\n",
            "  Downloading attrs-21.4.0-py2.py3-none-any.whl (60 kB)\n",
            "\u001b[K     |████████████████████████████████| 60 kB 6.2 MB/s \n",
            "\u001b[?25hRequirement already satisfied: pyyaml>=5.4 in /usr/local/lib/python3.7/site-packages (from requests-cache~=0.7.0->chembl_webresource_client) (6.0.1)\n",
            "Collecting url-normalize<2.0,>=1.4\n",
            "  Downloading url_normalize-1.4.3-py2.py3-none-any.whl (6.8 kB)\n",
            "Requirement already satisfied: itsdangerous>=2.0.1 in /usr/local/lib/python3.7/site-packages (from requests-cache~=0.7.0->chembl_webresource_client) (2.1.2)\n",
            "Requirement already satisfied: six in /usr/local/lib/python3.7/site-packages (from url-normalize<2.0,>=1.4->requests-cache~=0.7.0->chembl_webresource_client) (1.16.0)\n",
            "Installing collected packages: url-normalize, attrs, requests-cache, easydict, chembl-webresource-client\n",
            "Successfully installed attrs-21.4.0 chembl-webresource-client-0.10.8 easydict-1.13 requests-cache-0.7.5 url-normalize-1.4.3\n",
            "\u001b[33mWARNING: Running pip as the 'root' user can result in broken permissions and conflicting behaviour with the system package manager. It is recommended to use a virtual environment instead: https://pip.pypa.io/warnings/venv\u001b[0m\n",
            "sudo: unknown user udockerusername\n",
            "sudo: error initializing audit plugin sudoers_audit\n",
            "# conda environments:\n",
            "#\n",
            "base                     /usr/local\n",
            "eos6oli               *  /usr/local/envs/eos6oli\n",
            "eosbase-bentoml-0.11.0-py37     /usr/local/envs/eosbase-bentoml-0.11.0-py37\n",
            "\n",
            "sudo: unknown user udockerusername\n",
            "sudo: error initializing audit plugin sudoers_audit\n",
            "sudo: unknown user udockerusername\n",
            "sudo: error initializing audit plugin sudoers_audit\n",
            "\u001b[32m🚀 Serving model eos6oli: soltrannet-aqueous-solubility\u001b[0m\n",
            "\u001b[0m\n",
            "\u001b[33m   URL: http://127.0.0.1:40897\u001b[0m\n",
            "\u001b[33m   PID: 4228\u001b[0m\n",
            "\u001b[33m   SRV: conda\u001b[0m\n",
            "\u001b[0m\n",
            "\u001b[34m👉 To run model:\u001b[0m\n",
            "\u001b[34m   - run\u001b[0m\n",
            "\u001b[0m\n",
            "\u001b[34m💁 Information:\u001b[0m\n",
            "\u001b[34m   - info\u001b[0m\n",
            "sudo: unknown user udockerusername\n",
            "sudo: error initializing audit plugin sudoers_audit\n",
            "\u001b[32m⛔ Model eos6oli closed\u001b[0m\n",
            "\u001b[32m👍 Model eos6oli fetched successfully!\u001b[0m\n",
            "Time taken: 355.39 seconds\n"
          ]
        }
      ]
    },
    {
      "cell_type": "code",
      "source": [
        "# @title ⚙️ Serve the model\n",
        "\n",
        "# returns available APIs (calculate or predict)\n",
        "\n",
        "!ersilia serve $model_name"
      ],
      "metadata": {
        "colab": {
          "base_uri": "https://localhost:8080/"
        },
        "id": "3Ao5hfVTvM1g",
        "outputId": "91f6a9d2-38ff-4b75-edf0-c8bdaa53d5fd"
      },
      "execution_count": null,
      "outputs": [
        {
          "output_type": "stream",
          "name": "stdout",
          "text": [
            "sudo: unknown user udockerusername\r\n",
            "sudo: error initializing audit plugin sudoers_audit\r\n",
            "sudo: unknown user udockerusername\r\n",
            "sudo: error initializing audit plugin sudoers_audit\r\n",
            "\u001b[32m🚀 Serving model eos6oli: soltrannet-aqueous-solubility\u001b[0m\n",
            "\u001b[0m\n",
            "\u001b[33m   URL: http://127.0.0.1:38611\u001b[0m\n",
            "\u001b[33m   PID: 4484\u001b[0m\n",
            "\u001b[33m   SRV: conda\u001b[0m\n",
            "\u001b[0m\n",
            "\u001b[34m👉 To run model:\u001b[0m\n",
            "\u001b[34m   - run\u001b[0m\n",
            "\u001b[0m\n",
            "\u001b[34m💁 Information:\u001b[0m\n",
            "\u001b[34m   - info\u001b[0m\n"
          ]
        }
      ]
    },
    {
      "cell_type": "markdown",
      "source": [
        "## Serve the model"
      ],
      "metadata": {
        "id": "k9DW_ldwFraE"
      }
    },
    {
      "cell_type": "code",
      "source": [
        "# @title ⚙️ Serve the model\n",
        "\n",
        "# This returns available APIs (calculate or predict)\n",
        "\n",
        "!ersilia serve $model_name"
      ],
      "metadata": {
        "colab": {
          "base_uri": "https://localhost:8080/"
        },
        "id": "sapm2VZwFvf0",
        "outputId": "0b54542f-d6c8-4956-99d9-76d4ded92063"
      },
      "execution_count": null,
      "outputs": [
        {
          "output_type": "stream",
          "name": "stdout",
          "text": [
            "sudo: unknown user udockerusername\r\n",
            "sudo: error initializing audit plugin sudoers_audit\r\n",
            "sudo: unknown user udockerusername\r\n",
            "sudo: error initializing audit plugin sudoers_audit\r\n",
            "\u001b[32m🚀 Serving model eos6oli: soltrannet-aqueous-solubility\u001b[0m\n",
            "\u001b[0m\n",
            "\u001b[33m   URL: http://127.0.0.1:54069\u001b[0m\n",
            "\u001b[33m   PID: 4616\u001b[0m\n",
            "\u001b[33m   SRV: conda\u001b[0m\n",
            "\u001b[0m\n",
            "\u001b[34m👉 To run model:\u001b[0m\n",
            "\u001b[34m   - run\u001b[0m\n",
            "\u001b[0m\n",
            "\u001b[34m💁 Information:\u001b[0m\n",
            "\u001b[34m   - info\u001b[0m\n"
          ]
        }
      ]
    },
    {
      "cell_type": "code",
      "source": [
        "# @title ⚡ Run the predictions\n",
        "api = \"calculate\"  # @param {type:\"string\"}\n",
        "\n",
        "from ersilia import ErsiliaModel\n",
        "import time\n",
        "\n",
        "model = ErsiliaModel(model_name)\n",
        "begin = time.time()\n",
        "output = model.api(input=smiles, output=\"pandas\")\n",
        "end = time.time()\n",
        "\n",
        "print(\"Successful 👍! Time taken:\", round((end - begin), 2), \"seconds\")\n",
        "model.close()"
      ],
      "metadata": {
        "colab": {
          "base_uri": "https://localhost:8080/"
        },
        "id": "0fVP-2mmv3WU",
        "outputId": "68d069db-2d26-4677-8764-2621f7cf117d"
      },
      "execution_count": null,
      "outputs": [
        {
          "output_type": "stream",
          "name": "stdout",
          "text": [
            "Successful 👍! Time taken: 60.95 seconds\n"
          ]
        }
      ]
    },
    {
      "cell_type": "code",
      "source": [
        "# @title ✔️ Check your results\n",
        "\n",
        "print(output.head())"
      ],
      "metadata": {
        "colab": {
          "base_uri": "https://localhost:8080/"
        },
        "id": "0fCoTZ9bwGBV",
        "outputId": "94149d03-33b1-45de-d5b1-826f80dca72d"
      },
      "execution_count": null,
      "outputs": [
        {
          "output_type": "stream",
          "name": "stdout",
          "text": [
            "                           key  \\\n",
            "0  SUTWUYBMBWPLMW-MDWZMJQESA-N   \n",
            "1  RIYHJWOTNJXDLV-UHFFFAOYSA-N   \n",
            "2  OGNBARHGQVMGGX-UHFFFAOYSA-N   \n",
            "3  WQEXDIRUOYNDCM-UHFFFAOYSA-N   \n",
            "4  YEGVLLQDOGYWDQ-OAHLLOKOSA-N   \n",
            "\n",
            "                                               input  solubility  \n",
            "0                       CCCCNC(=S)N/N=C/C1=C(C)C=CS1      -3.454  \n",
            "1         CN1C(SCC2=NC(C3=CC=CS3)=NO2)=NN=C1C1CCCCC1      -4.502  \n",
            "2           O=C(O)CC(NC(=O)C1=CN=CC=N1)C1=CC=CC=C1Cl      -2.900  \n",
            "3  O=S(=O)(C1=CC=CC=C1)N1CCN(C2=NOC3=CC=CC(Cl)=C2...      -4.777  \n",
            "4  CCC[C@@H](C)N(C1=CC(Cl)=CC=C1CO)S(=O)(=O)C1=CC...      -4.473  \n"
          ]
        }
      ]
    },
    {
      "cell_type": "code",
      "source": [
        "# @title 💾 Save your results in Google Drive\n",
        "\n",
        "output_path = \"%s/%s_output.csv\" % (output_folder, model_name)\n",
        "output.to_csv(output_path, index=False)"
      ],
      "metadata": {
        "id": "VB9ZcL5vwdUB"
      },
      "execution_count": null,
      "outputs": []
    }
  ]
}